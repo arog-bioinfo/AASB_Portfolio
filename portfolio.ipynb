{
 "cells": [
  {
   "cell_type": "markdown",
   "metadata": {},
   "source": [
    "# **Portefólio**\n",
    "\n",
    "Grupo:\n",
    "* Artur Gomes       | PG55692\n",
    "* Catarina Gomes    | PG55694\n",
    "* Maria Carvalho    | PG55130\n",
    "* Pedro Pereira     | PG55703\n",
    "* Sami Benkhellat   | PG55704\n"
   ]
  },
  {
   "cell_type": "markdown",
   "metadata": {},
   "source": [
    "## Funções para tratamento de Sequências"
   ]
  },
  {
   "cell_type": "markdown",
   "metadata": {},
   "source": [
    "Markdown para explicar cada função nos seguintes niveis\n",
    "- Descrição do algoritmo\n",
    "- Projeto de alto nível\n",
    "- Projeto de baixo nível"
   ]
  },
  {
   "cell_type": "code",
   "execution_count": null,
   "metadata": {},
   "outputs": [],
   "source": []
  },
  {
   "cell_type": "markdown",
   "metadata": {},
   "source": [
    "## Alinhamentos locais e globais"
   ]
  },
  {
   "cell_type": "markdown",
   "metadata": {},
   "source": [
    "Markdown para explicar cada função nos seguintes niveis\n",
    "- Descrição do algoritmo\n",
    "- Projeto de alto nível\n",
    "- Projeto de baixo nível"
   ]
  },
  {
   "cell_type": "code",
   "execution_count": null,
   "metadata": {},
   "outputs": [],
   "source": []
  },
  {
   "cell_type": "markdown",
   "metadata": {},
   "source": [
    "## Blast"
   ]
  },
  {
   "cell_type": "markdown",
   "metadata": {},
   "source": [
    "Markdown para explicar cada função nos seguintes niveis\n",
    "- Descrição do algoritmo\n",
    "- Projeto de alto nível\n",
    "- Projeto de baixo nível"
   ]
  },
  {
   "cell_type": "code",
   "execution_count": null,
   "metadata": {},
   "outputs": [],
   "source": [
    "from collections import defaultdict\n",
    "from pprint import pprint\n",
    "\n",
    "DEBUG = True\n",
    "def query_map(seq, window_size):\n",
    "    \"\"\"\n",
    "    Returns a dictionary of all key/value pairs where\n",
    "        key is a substring of size window_size\n",
    "        value is a list of occurrences (offsets)\n",
    "    \"\"\"\n",
    "\n",
    "    res = defaultdict(list)\n",
    "    size = len(seq)\n",
    "\n",
    "    for position in range(size - window_size + 1):\n",
    "        if DEBUG:\n",
    "            print( position, seq[position : position + window_size])\n",
    "\n",
    "        subseq = seq[position : position + window_size]\n",
    "        res[subseq].append(position)\n",
    "    if DEBUG:\n",
    "        pprint(res)\n",
    "    return res\n",
    "\n",
    "def get_all_positions(subseq, seq):\n",
    "    return [P for P in range(len(seq) - len(subseq) + 1) if seq[P : P + len(subseq)] == subseq]\n",
    "        \n",
    "def hits(qm, seq):\n",
    "    \"\"\"\n",
    "    for all keys Q in qm\n",
    "        for all positions in seq where Q exists\n",
    "        add the tuple of corresponding positions\n",
    "    \"\"\"\n",
    "    res = []\n",
    "    for Q, LstPos in qm.items():\n",
    "        for P1 in LstPos:\n",
    "            for P2 in get_all_positions(Q, seq):\n",
    "                res.append((P1, P2))\n",
    "    return res\n",
    "\n",
    "def extend_hit_direction(query, seq, hit, window_size):\n",
    "    \"\"\"\n",
    "        query: first string\n",
    "        seq: second string\n",
    "        hit: tuple of offsets\n",
    "        window_size:\n",
    "        direction: +1 or -1\n",
    "\n",
    "\n",
    "        try to extend in this direction one character at a time\n",
    "        If both characters are the same, advance\n",
    "        Otherwise continue if half the characters are the same\n",
    "\n",
    "\n",
    "        returns a tuple with:\n",
    "        - The initial position in query\n",
    "        - The initial position in seq\n",
    "        - The match size\n",
    "        - The number of equal characters\n",
    "    \"\"\"\n",
    "    pos_query, pos_seq = hit\n",
    "\n",
    "    def extend_hit(direction):\n",
    "\n",
    "        if direction == 1:\n",
    "            query_extension = query[pos_query + window_size ::]\n",
    "            seq_extension = seq[pos_seq+ window_size ::]\n",
    "\n",
    "        elif direction == -1:\n",
    "\n",
    "            query_extension = query[:pos_query:]\n",
    "            query_extension = query_extension[::-1]\n",
    "\n",
    "            seq_extension = seq[:pos_seq:]\n",
    "            seq_extension = seq_extension[::-1]\n",
    "\n",
    "        match_size = 0\n",
    "        equal_char = 0\n",
    "        waiting_match = 0\n",
    "\n",
    "        while query_extension and seq_extension:\n",
    "\n",
    "            if query_extension[0]==seq_extension[0]:\n",
    "                match_size += 1 + waiting_match\n",
    "                equal_char +=1\n",
    "                waiting_match = 0\n",
    "                \n",
    "            else:\n",
    "                waiting_match += 1\n",
    "\n",
    "            if DEBUG:\n",
    "                print(f\"Possible extension(query/seq): {query_extension} {seq_extension}\\n\" \n",
    "                        f\"Match size: {match_size} | Equal Bases: {equal_char} | Waiting match: {waiting_match} \\n\")\n",
    "                \n",
    "            query_extension = query_extension[1::]\n",
    "            seq_extension = seq_extension[1::]\n",
    "            \n",
    "            if (match_size + waiting_match) // 2 > equal_char:\n",
    "                break\n",
    "            \n",
    "        if direction == 1:\n",
    "            return [match_size, equal_char]\n",
    "            \n",
    "        else:\n",
    "            return [pos_query - match_size, pos_seq - match_size, match_size, equal_char]\n",
    "    \n",
    "    res = extend_hit(-1)\n",
    "    res[-2] += window_size + extend_hit(1)[-2]\n",
    "    res[-1] += window_size + extend_hit(1)[-1]\n",
    "    return res\n",
    "\n",
    "    def best_hit(query, seq, window_size):\n",
    "        pass\n",
    "\n",
    "\n",
    "if __name__ == \"__main__\":\n",
    "    query = \"AATATAT\"\n",
    "    seq = \"AATATGTTATATAATAATATTT\"\n",
    "\n",
    "    qm = query_map(query, 3)\n",
    "    # print(qm)\n",
    "    # print(hits(qm, seq))\n",
    "    print(extend_hit_direction(query,seq,(0,0),3))"
   ]
  },
  {
   "cell_type": "markdown",
   "metadata": {},
   "source": [
    "## Motifs determinísticos e estocásticos"
   ]
  },
  {
   "cell_type": "markdown",
   "metadata": {},
   "source": [
    "Markdown para explicar cada função nos seguintes niveis\n",
    "- Descrição do algoritmo\n",
    "- Projeto de alto nível\n",
    "- Projeto de baixo nível"
   ]
  },
  {
   "cell_type": "code",
   "execution_count": null,
   "metadata": {},
   "outputs": [],
   "source": []
  },
  {
   "cell_type": "markdown",
   "metadata": {},
   "source": [
    "## Árvore Filogenética"
   ]
  },
  {
   "cell_type": "markdown",
   "metadata": {},
   "source": [
    "Markdown para explicar cada função nos seguintes niveis\n",
    "- Descrição do algoritmo\n",
    "- Projeto de alto nível\n",
    "- Projeto de baixo nível"
   ]
  },
  {
   "cell_type": "code",
   "execution_count": null,
   "metadata": {},
   "outputs": [],
   "source": []
  }
 ],
 "metadata": {
  "kernelspec": {
   "display_name": "localhub",
   "language": "python",
   "name": "python3"
  },
  "language_info": {
   "name": "python",
   "version": "3.12.4"
  }
 },
 "nbformat": 4,
 "nbformat_minor": 2
}
