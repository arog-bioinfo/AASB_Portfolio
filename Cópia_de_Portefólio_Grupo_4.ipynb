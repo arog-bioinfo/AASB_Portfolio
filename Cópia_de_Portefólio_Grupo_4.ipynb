{
  "cells": [
    {
      "cell_type": "markdown",
      "metadata": {
        "id": "Wma2fdt8jdwG"
      },
      "source": [
        "# **Portefólio**\n",
        "\n",
        "Grupo 4:\n",
        "* Beatriz dos Santos (PG46723)\n",
        "* Ian Alves Machado (PG51682)\n",
        "* Laís Cristine Carvalho (PG52536)\n",
        "* Rita Nóbrega (PG46733)\n",
        "* Sofia Ferreira (PG53502)\n"
      ]
    },
    {
      "cell_type": "markdown",
      "metadata": {
        "id": "h4AMUphhgHSb"
      },
      "source": [
        " A bioinformática é capaz de combinar duas grandes áreas, sendo elas a biologia e a informática, de maneira a que seja possível interpretar e analisar dados biológicos. O desenvolvimento tecnológico, junto ao elevado crescimento nas diversas áreas dentro da biologia molecular, genómica e proteómica, faz com que seja necessário a utilização de novos tipos de técnicas com vista a tornar possível a interpretação desses dados.\n",
        "\n",
        "Os algoritmos fornecem métodos computacionais muito interessantes que conseguem resolver uma série de problemas e incógnitas relacionados com a análise de dados biológicos. Dentre as suas diversas utilizações, podemos citar, por exemplo, a capacidade de realizar comparações entre sequências, prever estruturas de proteínas, processamento de dados muito grandes, identificar padrões, entre outros. Algoritmos eficientes conseguem tornar estas análises muito mais rápidas e também contribuem para a descoberta de novos conhecimentos na área da biologia molecular.\n",
        "\n",
        "No seguinte portefólio, irá ser demonstrado um conjunto de algoritmos desenvolvidos nas aulas de 'Algoritmos para Análise de Sequências Biológicas'. O desenvolvimento deste portefólio tem como objetivo a aprendizagem prática e teórica do funcionamento de algoritmos na biologia, possibilitando a sua aplicação em diversos desafios na área."
      ]
    },
    {
      "cell_type": "markdown",
      "metadata": {
        "id": "KbB0RAPcrzyd"
      },
      "source": [
        "# **Tipos de dados**\n",
        "*   **Numéricos**:\n",
        "\n",
        " * Inteiros (int) => ex: 1, 2, 3\n",
        " * Decimais (float) => ex: 1.5, 12.0\n",
        " * Complexos (complex)\n",
        "\n",
        "*   **Texto**:    \t`str` > `\"\"` ou `''`\n",
        "*   **Coleções**:\n",
        "\n",
        " * Lista => `[]`\n",
        " * Tuple => é um par\n",
        " * Range => `range(start, stop[, step])`\n",
        "\n",
        "*   **Dicionário**: `dict` > `{}`\n",
        "*   **Conjuntos**:   `set`, `frozenset`\n",
        "*   **Booleano**:    `bool`\n",
        "*   **Binários**:    `bytes`, `bytearray`, `memoryview`\n",
        "*   **Funções**:     `builtin_function_or_method`"
      ]
    },
    {
      "cell_type": "markdown",
      "metadata": {
        "id": "c9NI2fUovHgn"
      },
      "source": [
        "# **Operadores**\n",
        "**Operadores aritméticos**\n",
        "*   `+`\tAdição\n",
        "*   `-`\tSubtração\n",
        "*   `*`\tMultiplicação\n",
        "*   `/`\tDivisão\n",
        "*   `**`\tExponente (potência)\n",
        "*   `//`\tDivisão inteira\n",
        "*   `%`\tMódulo / Resto da divisão\n",
        "\n",
        "**Operadores de comparação**\n",
        "* `==`\tÉ igual a\n",
        "* `!=`\tDiferente de\n",
        "* `>`\tMaior que\n",
        "* `<`\tMenor que\n",
        "* `>=`\tMaior ou igual a\n",
        "* `<=`\tMenor ou igual a\n",
        "\n",
        "**Operadores usados com listas, strings, dicionários**\n",
        "*  `=` para atribuir valores a variáveis\n",
        "*  `+` juntar strings\n",
        "*  `*lista_nova, ultimo = lista_x ` compacta numa lista os elementos da lista original exceto o último elemento\n",
        "*  `**` descompacta dicionários\n"
      ]
    },
    {
      "cell_type": "markdown",
      "metadata": {
        "id": "dt2MzPhwuQtg"
      },
      "source": [
        "# **Funções úteis:**\n",
        "\n",
        "`type()` => para ver o tipo de variável\n",
        "\n",
        "`isinstance(objeto, tipo de variável)` => para verificar o tipo da váriavel do objeto identificado, devolve \"True\" ou \"False\"\n",
        "\n",
        "`divmod(x, y)` => esta função devolve um tuple com o quociente e resto da divisão de x por y\n",
        "\n",
        "`len()` => tamanho da lista ou dicionário\n",
        "\n",
        "`sum()` => soma de valores indicados\n",
        "\n",
        "### **Strings: funções mais usadas**\n",
        "`string.capitalize()` => devolve a primeira letra em maiuscula e o resto minusculas\n",
        "\n",
        "`'string {} string {}'.format(x, y)` => acrescentar à string os elementos x e y no lugar das chavetas {}\n",
        "\n",
        "`string.upper()` => tranforma todos os elementos da string em maiúscula\n",
        "\n",
        "`string.lower()` => todos em minúscula\n",
        "\n",
        "`string.lstrip([segmento])` => retira à string o segmento indicado\n",
        "\n",
        "`string.split('x', maxsplit=y)` => devolve uma lista das palavras da string, sendo o x o elemento separador e o y o nº máximo de vezes que esta separação acontece (se `maxsplit` não for indicado, a string vai ser separada sempre na posição em que existir o elemento x)\n",
        "\n",
        "`str.replace(old, new[, x]` => devolve uma cópia da string com todos os elementos old substituídos pelos new; se adicionarmos o `[, x]` então só as primerias x ocorrências do old é que seão substituídas\n",
        "\n",
        "`str.isalpha()` => verifica se todos os elementos/caracteres da string são letras do alfabeto, devolve True ou False\n",
        "\n",
        "`str.isdigit()` => verifica se todos os elementos/caracteres da string são digitos, devolve True ou False\n",
        "\n",
        "`'y'.join(x)` => junta num string unica os tuples presentes em x, sendo que entre cada elemento de x, é adicionado y (se for ' ' é um espaço podendo assim formar uma frase com palavras ou letras presentes em x)"
      ]
    },
    {
      "cell_type": "markdown",
      "metadata": {
        "id": "C7MnRhH4uEcO"
      },
      "source": [
        "## **Listas: funções importantes**\n",
        "`lista = []` => lista vazia\n",
        "\n",
        "`lista[posição]` => elemento da lista na posição indicada\n",
        "\n",
        "`lista.index(elemento)` => devolve a posição (ou indice) de determinado elemento numa lista\n",
        "\n",
        "`max(lista)` => devolve o maior elemento da lista (por ordem alfabética quando temos uma lista de strings e por ordem crescente quando há uma lista de números)\n",
        "\n",
        "`min(lista)` => o contrário da função min()\n",
        "\n",
        "`lista[start:stop:step]` => indicamos a posição inicial, a final (que não é incluída no subset) e o nº de indices a ser ignorado; devolve um subset da lista consoante estas indicações\n",
        "\n",
        "`lista.append(elemento)` => adiciona um determinado elemento da lista\n",
        "\n",
        "`lista.insert(posição, elemento)` => adiciona um determinado elemento da lista na posição indicada\n",
        "\n",
        "`lista.remove(elemento)` => retira um determinado elemento da lista\n",
        "\n",
        "`lista.pop()` => retira o último elemento da lista\n",
        "\n",
        "`lista.sort()` ou `sorted(lista)` => para ordenar as listas; se adicionarmos reverse=True ordena na ordem contrária\n",
        "\n",
        "`map(função, lista)` => serve para transformar um alista de acordo com determinada função (por exemplo, `map(len, lista)` devolve o tamanho de cada elemento da lista). =>  utilizar o `lamda` na função `map()` permite a criação *inline* de funções anónimas (sem nome) que podem ter qualquer número de argumentos, mas apenas uma expressão (ex: `map(lamda x: x*2, lista)` devolve uma lista com os elementos da lista multiplicados por 2)"
      ]
    },
    {
      "cell_type": "markdown",
      "metadata": {
        "id": "wjIMSnPwt95C"
      },
      "source": [
        "## **Dicionários: funções importantes**\n",
        "\n",
        "Dicionário é um tipo de estrutura de dados ordenada que tem associado a chaves, valores\n",
        "\n",
        "`dicionário = {chave: valor}`\n",
        "\n",
        "`dicionário[chave]` ou `dicionário.get(chave)` => para obter o valor associado a determinada chave\n",
        "\n",
        "`'chave' in dicionário` => através do operador `in` é possível verificar se determinada chave se encontra no dicionário (devolve True ou False)\n",
        "\n",
        "`list( dicionário.items() )` => devolve uma lista com tuples com a chave e o valor correspondente presentes no dicionário\n",
        "\n",
        "`list( dicionário.keys() )` => devolve uma lista de todas as chaves presentes no dicionário\n",
        "\n",
        "`list( dicionário.values() )`=> deveolve uma lista de todos os valores presentes no dicionário\n",
        "\n",
        "`del dicionário[chave]` => elimina do dicionário a chave indicada assim como o valor correspondente\n",
        "\n",
        "`dicionário.update({chave_nova: valor_novo})` => dá para atualizar o dicionário quer seja a mudar o que já lá está como adicionar mais elementos\n",
        "\n",
        "`max(dicionário, key=dicionário.get)` => devolve a chave a que corresponde o maior valor\n",
        "\n",
        "`sorted(dicionário, key=dicionário.get)` => ordena as chaves do dicionário por ordem crescente dos valores associados (se acresecentarmos `reverse=True` ordena por ordem decrescente)\n"
      ]
    },
    {
      "cell_type": "markdown",
      "metadata": {
        "id": "OVuB0yZKt136"
      },
      "source": [
        "# **Matrizes**\n",
        "Estrutura: lista de listas\n",
        "\n",
        "`matriz = [[n_coluna for n_coluna in range(X)] for n_linha in range(Y)]`  => fórmula geral de uma matriz\n",
        "\n",
        "`def matriz_maker(linhas, colunas):\n",
        "    return [[0 for C in range(colunas)] for L in range(linhas)]` => função que nos permite construir matrizes preenchidas com 0 indicando apenas o nº de linhas e colunas pretendidos\n",
        "\n",
        "`Matriz[linha][coluna]=x` => para substituir o zero por x nas posições pretendidas na Matriz criada com a função anterior (`matriz_maker()`)\n",
        "\n",
        "`def maior_m(M):\n",
        "    linhas = len(M)\n",
        "    colunas = len(M[0])\n",
        "    return [max(M[L][C] for L in range(linhas)) for C in range(colunas)]  `\n",
        "  => função que dá o maior elemento de cada coluna da matriz (se quisermos que dê o máximo de cada linha basta trocar a posição do range(linhas) e range(colunas) nos ciclo for)"
      ]
    },
    {
      "cell_type": "markdown",
      "metadata": {
        "id": "VEpwOXBJvVzH"
      },
      "source": [
        "# Funções básicas"
      ]
    },
    {
      "cell_type": "markdown",
      "metadata": {
        "id": "Gk05eSoxlXz9"
      },
      "source": [
        "#### Função: validate_seq()\n",
        "\n",
        "Esta função verifica se a sequência inserida é válida, isto é, se todos os caracteres da sequência são nucleótidos de uma sequência de DNA ou RNA, conforme o indicado. Assim, para cada nucleótido, a função verifica se este está no conjunto de caracteres válidos, se o nucleótido não estiver no conjunto de caracteres válidos, a função retornará False.\n",
        "\n",
        "Para isto foi utilizado o ciclo [for](https://www.datacamp.com/tutorial/loops-python-tutorial?utm_source=google&utm_medium=paid_search&utm_campaignid=19589720818&utm_adgroupid=143216588777&utm_device=c&utm_keyword=&utm_matchtype=&utm_network=g&utm_adpostion=&utm_creative=671350460558&utm_targetid=aud-517318241987:dsa-1947282172981&utm_loc_interest_ms=&utm_loc_physical_ms=1011714&utm_content=dsa~page~community-tuto&utm_campaign=230119_1-sea~dsa~tofu_2-b2c_3-eu_4-prc_5-na_6-na_7-le_8-pdsh-go_9-na_10-na_11-na&gclid=Cj0KCQjwsp6pBhCfARIsAD3GZuZ8ubPcAtchQZzmW0SvhjlVgZRj5yuC6CxoUGOTAdEeads_RTlOkIgaApd7EALw_wcB) para a análise de cada caracter na string. E as funções de manipulação de strings:\n",
        "\n",
        "`str.replace(old, new[, count])` Retorna uma cópia da string com todas as ocorrências da substring antiga substituídas por novas. Se o argumento opcional count for fornecido, apenas as primeiras ocorrências de contagem serão substituídas.\n",
        "\n",
        "`str.upper()` Retorna uma cópia da string com todos os caracteres minúsculos convertidos em letras maiúsculas."
      ]
    },
    {
      "cell_type": "code",
      "execution_count": null,
      "metadata": {
        "colab": {
          "base_uri": "https://localhost:8080/"
        },
        "id": "UAs1ccqGn6Zi",
        "outputId": "405816f5-46de-495c-a845-d4cd7c23ce46"
      },
      "outputs": [
        {
          "name": "stdout",
          "output_type": "stream",
          "text": [
            "True\n",
            "False\n",
            "True\n",
            "False\n",
            "False\n",
            "Tipo de sequência inválida\n"
          ]
        }
      ],
      "source": [
        "def validate_seq(my_sequencia : str, tipo_seq: str) -> bool:\n",
        "  \"\"\"\n",
        "  Objetivo: Verifica que tipo de sequência é dada (DNA ou RNA) e verifica se é uma sequência válida\n",
        "  Input: sequencia e o tipo de sequência\n",
        "  Output: Verdadeiro ou Falso\n",
        "  \"\"\"\n",
        "  bases_dna = 'ATCG'\n",
        "  bases_rna = 'AUCG'\n",
        "  my_sequencia_clean = str(my_sequencia).replace(\" \", \"\").upper()\n",
        "  for nucleotide in my_sequencia_clean:\n",
        "    if tipo_seq.upper().replace(\" \", \"\") == 'DNA':\n",
        "      if nucleotide not in bases_dna:\n",
        "        return False\n",
        "    elif tipo_seq.upper().replace(\" \", \"\") == 'RNA':\n",
        "      if nucleotide not in bases_rna:\n",
        "        return False\n",
        "    else:\n",
        "      return 'Tipo de sequência inválida'\n",
        "  return True\n",
        "\n",
        "#Exemplos de utilização:\n",
        "print(validate_seq(\" ATG gat gCG\", 'dna '))   #True\n",
        "print(validate_seq(\" ATG AHA AAA\", 'DNA'))   #False\n",
        "\n",
        "print(validate_seq(\" AUugaugCG \", 'Rna'))    #True\n",
        "print(validate_seq(\"ATGAAU\", 'RNA'))         #False\n",
        "\n",
        "print(validate_seq(\"AUG\", 'DNA'))            #False\n",
        "\n",
        "print(validate_seq(\"ATG\", 'tna'))            #'Tipo de sequência inválida'"
      ]
    },
    {
      "cell_type": "markdown",
      "metadata": {
        "id": "iS1upRtgoh2A"
      },
      "source": [
        "####Função: calculate_frequency()\n",
        "\n",
        "A função tem como objetivo calcular a ocorrência de cada caracter da sequência (str) e retornar um [dicionário](https://www.datacamp.com/tutorial/dictionary-python?utm_source=google&utm_medium=paid_search&utm_campaignid=19589720818&utm_adgroupid=143216588777&utm_device=c&utm_keyword=&utm_matchtype=&utm_network=g&utm_adpostion=&utm_creative=671350460558&utm_targetid=aud-517318241987:dsa-1947282172981&utm_loc_interest_ms=&utm_loc_physical_ms=1011714&utm_content=dsa~page~community-tuto&utm_campaign=230119_1-sea~dsa~tofu-tutorials_2-b2c_3-eu_4-prc_5-na_6-na_7-le_8-pdsh-go_9-na_10-na_11-na&gclid=Cj0KCQjw7JOpBhCfARIsAL3bobfoS0jPxZEQIuucUxS5vh6o9eSV-rmolrelgN89yfq5xbmWx80GJ4EaAlmZEALw_wcB), onde as chaves representam o caracter (ordenados alfabeticamente para facilitar a compreensão do resultado e haver alguma uniformidade nos resultados fornecidos pela função para diferentes sequências) e os valores, a frequênica de cada caracter. Para tal feito, foi utilizado as funções de manipulação de string:\n",
        "\n",
        "* `str.replace(old, new[, count])` Retorna uma cópia da string com todas as ocorrências da substring antiga substituídas por novas. Se o argumento opcional count for fornecido, apenas as primeiras ocorrências de contagem serão substituídas.\n",
        "\n",
        "* `str.upper()` Retorna uma cópia da string com todos os caracteres maiúsculas convertidos em letras maiúsculas.\n",
        "\n",
        "Adicionalmente, é também verificada a validade da sequência fornecida através do `assert` e da função `validate_seq()`."
      ]
    },
    {
      "cell_type": "code",
      "execution_count": null,
      "metadata": {
        "colab": {
          "base_uri": "https://localhost:8080/"
        },
        "id": "CbTXJh92ra0N",
        "outputId": "872bd01f-82dc-4326-cf1c-ba71553b16d4"
      },
      "outputs": [
        {
          "name": "stdout",
          "output_type": "stream",
          "text": [
            "DNA:  {'A': 15, 'C': 8, 'G': 17, 'T': 13}\n",
            "RNA:  {'A': 1, 'C': 1, 'G': 2, 'U': 2}\n"
          ]
        }
      ],
      "source": [
        "def calculate_frequency(sequence : str) -> dict:\n",
        "    \"\"\"Calcula a frequência de cada símbolo na sequência e retorna um dicionário\"\"\"\n",
        "    sequence = sequence.replace(' ', '').upper()\n",
        "    if 'T' in sequence:\n",
        "      assert validate_seq(sequence, 'dna'), \"Sequência inválida!\"\n",
        "    elif 'U' in sequence:\n",
        "      assert validate_seq(sequence, 'RNA'), \"Sequência inválida!\"\n",
        "    else:\n",
        "      assert validate_seq(sequence, 'DNA'), \"Sequência inválida!\"\n",
        "    frequency = {}\n",
        "    ordered_freq = {}\n",
        "    for symbol in sequence:\n",
        "        if symbol in frequency:\n",
        "            frequency[symbol] += 1\n",
        "        else:\n",
        "           frequency[symbol] = 1\n",
        "    for simbolo in sorted(frequency):\n",
        "      ordered_freq[simbolo] = frequency[simbolo]\n",
        "    frequency = ordered_freq\n",
        "    return frequency\n",
        "\n",
        "print('DNA: ', calculate_frequency(\"TGTGATATGCACCGACGGTAAGCTGTGATGTAAACGATGGGGAGTCCATGTAA\") )\n",
        "print('RNA: ', calculate_frequency(\"UAU gcg\") )"
      ]
    },
    {
      "cell_type": "markdown",
      "metadata": {
        "id": "M_RYUUiWs3Uj"
      },
      "source": [
        "#### Função: gc_percentage()\n",
        "O código denominado `gc_percentage()` é utilizado para calcular a percentagem dos nucleotídeos, guanina (G) e citosina (C), dada uma sequência de DNA ou de RNA. A função aceita o argumento chamado my_sequencia (a sequência  de DNA / RNA escolhida).\n",
        "\n",
        "A linha de código `my_sequencia_clean = my_sequencia.replace(' ', '').upper()`, é utilizada para melhorar a sequência, retira possíveis espaçamentos e torna todas as letras minúsculas em maiúsculas. Para determinar o conteúdo de guanina e citosina, criamos dois contadores, **g_count** e **c_count**, iniciados em 0.\n",
        "Assim, a função percorre toda sequência e incrementa aos contatores sempre que encontrar uma guanina/citosina.\n",
        "\n",
        "Como a formula de GC content é dada por `gc_percentage = (float(g_count + c_count) / total_nucleotides) * 100`, precisamos determinar o total de nucleotídeos, para isso  utilizamos a função `len()`.\n",
        "\n",
        "\n",
        "\n",
        "\n",
        "\n"
      ]
    },
    {
      "cell_type": "code",
      "execution_count": null,
      "metadata": {
        "colab": {
          "base_uri": "https://localhost:8080/"
        },
        "id": "uTdUJp5oucBJ",
        "outputId": "642703fe-3380-4f15-e203-15c46e418205"
      },
      "outputs": [
        {
          "name": "stdout",
          "output_type": "stream",
          "text": [
            "50.0\n",
            "59.09\n",
            "20.0\n",
            "20.0\n",
            "0\n"
          ]
        }
      ],
      "source": [
        "def gc_percentage(my_sequencia : str) -> float:\n",
        "    \"\"\"Esta função calcula a percentagem de nucleótidos C e G  numa sequência de DNA\"\"\"\n",
        "\n",
        "    freq = calculate_frequency(my_sequencia)\n",
        "    total_nucleotides = len(my_sequencia.replace(' ', ''))\n",
        "    if 'C' not in freq.keys() and 'G' in freq.keys():\n",
        "      gc_percentage = (freq['G']) / total_nucleotides * 100\n",
        "    elif 'G' not in freq.keys() and 'C' in freq.keys():\n",
        "      gc_percentage = (freq['C']) / total_nucleotides * 100\n",
        "    elif 'C' not in freq.keys() and 'G' not in freq.keys():\n",
        "      gc_percentage = 0\n",
        "    else:\n",
        "      gc_percentage = (freq['C'] + freq['G']) / total_nucleotides * 100\n",
        "    return round(gc_percentage, ndigits=2)\n",
        "\n",
        "print(gc_percentage(\"TAAt GgCc\"))\n",
        "print(gc_percentage(\"TATA TGCGCGgac g a tga GgCc\"))\n",
        "print(gc_percentage(\"TATA g\"))\n",
        "print(gc_percentage(\"TATAc\"))\n",
        "print(gc_percentage(\"TATA\"))"
      ]
    },
    {
      "cell_type": "markdown",
      "metadata": {
        "id": "u0sfwLvHa9z3"
      },
      "source": [
        "#### Aplicação:\n",
        "\n",
        "A aplicação das funções definidas para a análise de uma sequência biológica, utilizamos o módulo [`matplotlib.pyplot`](https://matplotlib.org/3.5.3/api/_as_gen/matplotlib.pyplot.html), este módulo é útil para a representação gráfica dos resultados.\n",
        "\n",
        "Assim, primeiro se estipula duas variáveis, ambas definidas por um input onde se define o tipo de sequência biológica que deseja inserir (`x`) e a sequência biológica de interesse (`seq`).  \n"
      ]
    },
    {
      "cell_type": "code",
      "execution_count": null,
      "metadata": {
        "colab": {
          "base_uri": "https://localhost:8080/",
          "height": 489
        },
        "id": "UdHIxo0Ha-6K",
        "outputId": "19a8dd3d-242e-4384-97dc-2bad78da15c2"
      },
      "outputs": [
        {
          "name": "stdout",
          "output_type": "stream",
          "text": [
            "Insira a sequência: Ua AgcG c\n"
          ]
        },
        {
          "data": {
            "image/png": "[encoded data removed]",
            "text/plain": [
              "<Figure size 640x480 with 1 Axes>"
            ]
          },
          "metadata": {},
          "output_type": "display_data"
        }
      ],
      "source": [
        "# pip install matplotlib\n",
        "seq = input(\"Insira a sequência: \", )\n",
        "\n",
        "import matplotlib.pyplot as plt\n",
        "\n",
        "def grafico(seq):\n",
        "  fig, ax = plt.subplots()\n",
        "  x_axis = list(calculate_frequency(seq).keys())\n",
        "  y_axis = list(calculate_frequency(seq).values())\n",
        "  GC = gc_percentage(seq)\n",
        "  plt.bar(x_axis, y_axis, color = \"lightblue\")\n",
        "  plt.title('Frequência de nucleotídeos')\n",
        "  plt.xlabel('Nucleotídeos')\n",
        "  plt.ylabel('Número de Nucleotídeos')\n",
        "  plt.text(0.60, 0.95, f\"Percentagem de GC = {int(GC)}%\", transform = ax.transAxes)\n",
        "  plt.show()\n",
        "\n",
        "grafico(seq)"
      ]
    },
    {
      "cell_type": "markdown",
      "metadata": {
        "id": "0Ay9vvkBhIF9"
      },
      "source": [
        "## Funções básicas do dógma central\n"
      ]
    },
    {
      "cell_type": "markdown",
      "metadata": {
        "id": "SfJoUEK5eoha"
      },
      "source": [
        "A função `transcreve()` recebe uma sequência de DNA e retorna uma sequência de RNA correspondente.\n",
        "\n",
        "A função começa com um asserte que verifica se a sequência de DNA é válida. Se não for, a função devolve uma exceção.\n",
        "Depois a função remove todos os espaços em branco da sequência de DNA e também a converte para maiúsculas. Isto garante que apenas os nucleotídeos válidos sejam considerados.\n",
        "Finalmente, a função itera sobre cada nucleotídeo na sequência de DNA e substitui o T por U (isto porque, no código genético, o T é complementar ao A no DNA mas no RNA o complementar é U)."
      ]
    },
    {
      "cell_type": "code",
      "execution_count": null,
      "metadata": {
        "colab": {
          "base_uri": "https://localhost:8080/",
          "height": 35
        },
        "id": "g-UrF__nYq07",
        "outputId": "9743560e-63d5-4799-c2d9-a6c4d31e9874"
      },
      "outputs": [
        {
          "data": {
            "application/vnd.google.colaboratory.intrinsic+json": {
              "type": "string"
            },
            "text/plain": [
              "'AAAUUGUGCGCUCAGUC'"
            ]
          },
          "execution_count": 5,
          "metadata": {},
          "output_type": "execute_result"
        }
      ],
      "source": [
        "def transcreve(seq : str)-> str:\n",
        "  \"\"\"\n",
        "  Formula uma sequência de RNA a partir de uma de DNA\n",
        "\n",
        "  Input\n",
        "  --------\n",
        "  seq: string de DNA de interesse\n",
        "\n",
        "  Output\n",
        "  --------\n",
        "  Uma string de RNA\n",
        "  \"\"\"\n",
        "  assert validate_seq(seq, 'DNA'), \"Sequência de DNA inválida\"\n",
        "  return seq.upper().replace(\"T\", \"U\").replace(' ', '')\n",
        "\n",
        "transcreve(\"AAA TTG tgc GCT CaG T C\")"
      ]
    },
    {
      "cell_type": "markdown",
      "metadata": {
        "id": "WCWgyn6-euJb"
      },
      "source": [
        "Frequentemente precisamos obter a cadeia complementar de uma sequência de DNA. Como as cadeias do DNA são antiparalelas, é crucial obter a sequência inversa complementar para manter a orientação 5' -> 3'.\n",
        "\n",
        "As moléculas de DNA são constituídas por duas cadeias complementares que são lidas em direções inversas. Em bioinformática é comum apenas ser fornecida uma das cadeias, sendo assim surge a necessidade de determinar a cadeia complementar inversa.\n",
        "\n",
        "A `função comp_inv()` recebe uma sequência de DNA e retorna uma nova sequência de DNA que corresponde ao complemento inverso.\n",
        "A função começa por um `assert` que verifica se a sequência de DNA é válida. Se não for, a função retorna uma exceção.\n",
        "\n",
        "De seguida, a função itera sobre cada nucleotídeo na sequência de DNA e substitui o nucleotídeo original pelo seu complementar (o nucleótido 'A' é par com o 'T', enquanto o 'C' é par com um 'G'). A função também remove todos os espaços em branco da sequência.\n",
        "Por fim, a função inverte a sequência resultante e converte-a para maiúsculas."
      ]
    },
    {
      "cell_type": "code",
      "execution_count": null,
      "metadata": {
        "colab": {
          "base_uri": "https://localhost:8080/",
          "height": 35
        },
        "id": "SOim_tKDXn45",
        "outputId": "cf6d30e8-0551-47e4-ff80-a077ed180140"
      },
      "outputs": [
        {
          "data": {
            "application/vnd.google.colaboratory.intrinsic+json": {
              "type": "string"
            },
            "text/plain": [
              "'GCAT'"
            ]
          },
          "execution_count": 6,
          "metadata": {},
          "output_type": "execute_result"
        }
      ],
      "source": [
        "def comp_inv(dna:str)->str:\n",
        "  \"\"\"\n",
        "  A função tem como objetivo retornar o complemento inverso de uma sequência de DNA\n",
        "\n",
        "  Input\n",
        "  --------\n",
        "  dna: string de DNA de interesse\n",
        "\n",
        "  Output\n",
        "  --------\n",
        "  Uma string de DNA complementar inversa a string inserida\n",
        "  \"\"\"\n",
        "  assert validate_seq(dna, 'DNA'), \"Sequência de DNA inválida!\"\n",
        "  dna = dna.upper()\n",
        "  complemento = dna.replace('A','t').replace('T', 'a').replace('G','c').replace('C','g').replace(' ', '')\n",
        "  complementoinverso = complemento[::-1].upper()\n",
        "  return complementoinverso\n",
        "\n",
        "comp_inv(\"At gC\")"
      ]
    },
    {
      "cell_type": "markdown",
      "metadata": {
        "id": "zsZZwyWnfES6"
      },
      "source": [
        "Durante a transcrição, a informação genética contida no DNA é usada para sintetizar uma molécula de RNA complementar, chamada RNA mensageiro. Esta molécula é fundamental para a célula pois carrega a informação essencial que permite a síntese de proteínas, criando cadeias de aminoácidos num processo chamado de tradução.\n",
        "\n",
        "O processo passa “dividir” a sequência de DNA  em subsequências de tamanho de três nucleótidos (codões), para cada codão, o aminoácido correspondente é associado através de uma tabela de conversão e adicionado ordenadamente numa nova sequência mas desta vez de aminoácidos que constituem uma proteína.\n",
        "\n",
        "A função `translate_seq()` recebe uma sequência de DNA e retorna a sequência proteica correspondente do reading frame de interesse. Primeiro usamos `assert` para verificar se a sequência é válida, em caso de não ser, a função retorna uma exceção. Depois garantimos que a sequência de DNA está toda em  maiúsculas e sem espaços em branco através de upper e replace.\n",
        "\n",
        "Posteriormente, criamos um dicionário que mapeia cada codão para o aminoácido correspondente. De seguida criamos uma lista vazia que permite armazenar todos os codões a partir de um reading frame específico. Removemos também da lista qualquer codão que não tenha três nucleótidos. Criamos também uma string vazia que é depois usada para armazenar a sequência proteica. Assim, depois para cada codão da lista, é verificado se o codão está no dicionário e se estiver, o aminoácido correspondente é adicionado à string da sequencia proteica.\n"
      ]
    },
    {
      "cell_type": "code",
      "execution_count": null,
      "metadata": {
        "colab": {
          "base_uri": "https://localhost:8080/",
          "height": 35
        },
        "id": "ve8AI0woY7x_",
        "outputId": "e8704d9c-c14a-4485-8a32-083377b3aefd"
      },
      "outputs": [
        {
          "data": {
            "application/vnd.google.colaboratory.intrinsic+json": {
              "type": "string"
            },
            "text/plain": [
              "'MSVC'"
            ]
          },
          "execution_count": 7,
          "metadata": {},
          "output_type": "execute_result"
        }
      ],
      "source": [
        "def translate_seq(dna_seq : str, pos_inicial=0) -> str:\n",
        "  \"\"\"\n",
        "  A partir de uma sequência de DNA retornar a sequência proteica correspondente do quadro de leitura de interesse\n",
        "\n",
        "  Input\n",
        "  --------\n",
        "  dna_seq: string de DNA de interesse\n",
        "  pos_inicial: um inteiro que representa o quadro de leitura de interesse (se não for indicado, será assumido como igual a 0)\n",
        "\n",
        "  Output\n",
        "  --------\n",
        "  Uma string de aminoácidos\n",
        "  \"\"\"\n",
        "\n",
        "  assert validate_seq(dna_seq, 'DNA'), \"Sequência de DNA inválida!\"\n",
        "  seq = dna_seq.upper().replace(' ', '')\n",
        "  tc = {\"GCT\":\"A\", \"GCC\":\"A\", \"GCA\":\"A\", \"GCG\":\"A\",\n",
        "    \"TGT\":\"C\", \"TGC\":\"C\",\n",
        "    \"GAT\":\"D\", \"GAC\":\"D\",\n",
        "    \"GAA\":\"E\", \"GAG\":\"E\",\n",
        "    \"TTT\":\"F\", \"TTC\":\"F\",\n",
        "    \"GGT\":\"G\", \"GGC\":\"G\", \"GGA\":\"G\", \"GGG\":\"G\",\n",
        "    \"CAT\":\"H\", \"CAC\":\"H\",\n",
        "    \"ATA\":\"I\", \"ATT\":\"I\", \"ATC\":\"I\",\n",
        "    \"AAA\":\"K\", \"AAG\":\"K\",\n",
        "    \"TTA\":\"L\", \"TTG\":\"L\", \"CTT\":\"L\", \"CTC\":\"L\", \"CTA\":\"L\", \"CTG\":\"L\",\n",
        "    \"ATG\":\"M\", \"AAT\":\"N\", \"AAC\":\"N\",\n",
        "    \"CCT\":\"P\", \"CCC\":\"P\", \"CCA\":\"P\", \"CCG\":\"P\",\n",
        "    \"CAA\":\"Q\", \"CAG\":\"Q\",\n",
        "    \"CGT\":\"R\", \"CGC\":\"R\", \"CGA\":\"R\", \"CGG\":\"R\", \"AGA\":\"R\", \"AGG\":\"R\",\n",
        "    \"TCT\":\"S\", \"TCC\":\"S\", \"TCA\":\"S\", \"TCG\":\"S\", \"AGT\":\"S\", \"AGC\":\"S\",\n",
        "    \"ACT\":\"T\", \"ACC\":\"T\", \"ACA\":\"T\", \"ACG\":\"T\",\n",
        "    \"GTT\":\"V\", \"GTC\":\"V\", \"GTA\":\"V\", \"GTG\":\"V\",\n",
        "    \"TGG\":\"W\",\n",
        "    \"TAT\":\"Y\", \"TAC\":\"Y\",\n",
        "    \"TAA\":\"_\", \"TAG\":\"_\", \"TGA\":\"_\"}\n",
        "\n",
        "  codons = []\n",
        "  for a in list(range(pos_inicial, len(seq), 3)):\n",
        "    codons += [seq[a : a +3]]\n",
        "\n",
        "  codonsf = []\n",
        "  for codon in codons:\n",
        "    if len(codon) == 3:\n",
        "      codonsf += [codon]\n",
        "\n",
        "  prot = \"\"\n",
        "  for cod in codonsf:\n",
        "    for x in tc.keys():\n",
        "      if cod == x:\n",
        "        prot += tc[x]\n",
        "  return prot\n",
        "\n",
        "translate_seq(\"A TG atg TCA GTcTGC\", 3)"
      ]
    },
    {
      "cell_type": "markdown",
      "metadata": {
        "id": "zH3asITByQo8"
      },
      "source": [
        "#### **Função: reading_frames()**\n",
        "Cada sequência pode dar 3 possíveis reading frames. Sabendo que também existe a sequencia do complemento reverso, prefaz um total de 6 possíveis ORFs. Desta forma obtemos todas as regiões codificantes de proteína possiveis.\n",
        "A função `reading frames()` tem como função devolver a tradução das 6 possíveis ORFs, sabendo a sequência que queremos analisar `(my_sequencia)` (devolve-nos 3 frames mediante a posição inicial da leitura e outras 3 correspondentes ao complemento reverso).\n",
        "Depois fizemos `assert validate_seq` da sequência de DNA para garantir que a sequencia input é válida. Caso a sequência de entrada não seja válida, gera um erro de asserção com a mensagem \"Sequência de DNA inválida!\".\n",
        "\n",
        "Com `frames = []` é criada uma lista frames vazia para armazenar os 6 reading frames.\n",
        "Duas sequências são geradas e armazenadas na lista de sequências: A sequência de entrada original, `my_sequencia` e o complemento reverso da sequência inicial, obtido usando a função `comp_inv`.\n",
        "O código entra depois num loop para processar cada uma das sequências na lista e para cada sequência, ele entra noutro loop que itera 3 reading frames (0, 1 e 2).\n",
        "\n",
        "Dentro do loop interno, usamos a função `translate_seq` para traduzir a sequência numa sequência de proteína no frame e usamos a função `translate_seq` para realizar a tradução do DNA para a proteína usando o frame especificado.\n",
        "A sequência de proteínas traduzida para o frame atual é anexada à lista de frames. Depois dos 6 reading frames serem processados, a lista de frames é devolvida como resultado da função reading_frames.\n",
        "\n",
        "Como resultado vai ser devolvido o output com uma lista com as sequências de proteínas traduzidas para todos os seis reading frames.\n",
        "\n",
        "\n"
      ]
    },
    {
      "cell_type": "code",
      "execution_count": null,
      "metadata": {
        "colab": {
          "base_uri": "https://localhost:8080/"
        },
        "id": "-jddqTY1yRMg",
        "outputId": "25915908-c20d-4aa2-cae8-1f15991b4e44"
      },
      "outputs": [
        {
          "data": {
            "text/plain": [
              "['_RCDAVIVS_LMLSRSLTL_MSQL_',\n",
              " 'EDAMQSSFPD_C_ADP_LYECHSF',\n",
              " 'KMRCSHRFLTDAEQIPDFMNVTAL',\n",
              " 'SKL_HS_SQGSAQHQSGNDDCIASS',\n",
              " 'QSCDIHKVRDLLSISQETMTASHL',\n",
              " 'KAVTFIKSGICSASVRKR_LHRIF']"
            ]
          },
          "execution_count": 8,
          "metadata": {},
          "output_type": "execute_result"
        }
      ],
      "source": [
        "def reading_frames(my_sequencia :str) -> list[str]:\n",
        "    \"\"\"\n",
        "    A partir de uma sequência de DNA dá nos as 6 possíveis reading frames:\n",
        "    3 da sequência + 3 do complemento inverso\n",
        "\n",
        "    Input: sequência de DNA\n",
        "    Output: lista com as reading frames\n",
        "    (as possíveis combinações de aminoácidos que a sequência e o seu complemento inverso podem gerar)\n",
        "   \"\"\"\n",
        "\n",
        "    assert validate_seq(my_sequencia, 'DNA'), \"Sequência de DNA inválida!\"\n",
        "\n",
        "    frames = []\n",
        "\n",
        "    sequences = [my_sequencia, comp_inv(my_sequencia)]\n",
        "\n",
        "    for sequence in sequences:\n",
        "        for frame in range(3):\n",
        "            frames.append(translate_seq(sequence, frame))\n",
        "\n",
        "    return frames\n",
        "\n",
        "reading_frames(\"tgaagatgcgatgcagtcatcgtttcctgactg ATGCTGAgcagatccctgacttT a TGA atgtcacagctttga\")"
      ]
    },
    {
      "cell_type": "markdown",
      "metadata": {
        "id": "6JrwvKcNzhrR"
      },
      "source": [
        "#### **Função: proteinas_rf()**\n",
        "\n",
        "A função proteinas_rf recebe uma sequência de aminácidos (uma string) e devolve uma lista de todas as possíveis proteínas daquela sequência. A 1ª coisa a fazer foi manipular a strinf usando `.upper()` para assegurar que mesmo que a sequência dada tenha letras minúsculas, o algoritmo vai transformá-las em maiúsculas (algo necessário para o bom funcionamento do código dado que os comandos que vamos fornecer se vão referir a letras maiúsculas).\n",
        "De seguida, criámos uma lista vazia denominada \"proteinas\" (`proteins = []`) que vai servir para armazenar as possíveis proteínas da sequência e vai ser a lista devolvida pela função. Criámos também uma string vazia à qual chamámos \"current_prot\" (current_prot = \"\").\n",
        "Abrimos um ciclo for que indica que se o aminácido na sequência for um 'M' então o M vai ser adicionado à string vazia \"current_prot\" (`current_prot += 'M'`).\n",
        "\n",
        "O passo seguinte é fazer com que o algoritmo continue a juntar ao 'M' os aminácidos seguintes da sequência e acresente essa sequência à lista de proteínas quando chegar a um codão stop. Para isto usámos o elif para indicar que se o aminoácido for um codão stop (representado por: '_') e se a current_prot não estiver vazia (`if current_prot:`) então a sequência até ali presente na current_prot é adicionada à lista de proteínas (`proteinas.append(curren_prot)`). Como queremos que o algoritmo pare de acrescentar a sequência presente na current_prot, \"esvaziámos\" a str (`current_prot = \"\"`). Para assegurar que à current_prot são adicionados os aminoácidos (aa) da sequência fornecida, usámos o elif outra vez para indicar que os aa devem ser adicionados à current_prot (`current_prot += aa`).\n",
        "\n",
        "\n",
        "\n",
        "\n",
        "\n",
        "\n",
        "\n"
      ]
    },
    {
      "cell_type": "code",
      "execution_count": null,
      "metadata": {
        "colab": {
          "base_uri": "https://localhost:8080/"
        },
        "id": "06I9kU7kziMn",
        "outputId": "ed1c1779-31ff-45fe-c43e-4090fa47f623"
      },
      "outputs": [
        {
          "data": {
            "text/plain": [
              "['MVNQEIRSNFQDHPFHLVSPSP', 'MMFL', 'MLFIVSEALFFLAIF']"
            ]
          },
          "execution_count": 9,
          "metadata": {},
          "output_type": "execute_result"
        }
      ],
      "source": [
        "def proteinas_rf(aa_seq : str) -> list[str]:\n",
        "    \"\"\"\n",
        "    Objetivo: A partir de uma sequência de aminoácidos dá-nos todas as possíveis proteínas\n",
        "    Input: sequência de aminoácidos (string)\n",
        "    Output: lista com as possíveis proteínas que a sequência de aminoácidos pode gerar\n",
        "    \"\"\"\n",
        "    aa_seq = aa_seq.upper()\n",
        "    current_prot = \"\"\n",
        "    proteinas = []\n",
        "\n",
        "    for aa in aa_seq:\n",
        "        if aa == 'M':\n",
        "            current_prot += 'M'\n",
        "        elif aa == '_':\n",
        "            if current_prot:\n",
        "                proteinas.append(current_prot)\n",
        "            current_prot = \"\"\n",
        "        elif current_prot:\n",
        "            current_prot += aa\n",
        "\n",
        "    return proteinas\n",
        "\n",
        "\n",
        "proteinas_rf('MVNQEIRSNFQDHPFHLVSPSP_PFFTSLSLLSLTTHASLSIHNFSNAYYFFYISLFLVVASMMFL_FRDVISEATFLGDHSLAVQRGLNLGVMLFIVSEALFFLAIF_AFFHSALSPTPELGAQ_PPLGIEPINPFELPLLNTVILLASGSTITYSHHALINGNRKAAILGGIFTVILAIVFTFFQGVEYSESSFTISDGAYGTCFFFGTGFHGFHVIIGTIFIFVAL_RIIRYHLTENHHVGLEGSIAY_HFVDLI_LFLYLSIYYWGS_')"
      ]
    },
    {
      "cell_type": "markdown",
      "metadata": {
        "id": "8kG29zeTzxHP"
      },
      "source": [
        "#### **Função: all_orfs()**\n",
        "\n",
        "A função `all_orfs()` tem como objetivo devolver todas as possíveis proteínas de todas as ORFs de uma dada sequência de DNA. Para isto é necessário verificar que a sequência fornecida é uma sequencia de DNA válida através do comando `assert validate_seq(my_sequencia)`.\n",
        "\n",
        "De seguida, uma lista denominada \"protein\" é definida. Através do comando `p for rf in reading_frames(dna_seq) for p in proteinas_rf(rf)`, duas funções definidas anteriormente vão ser chamdas e utilizadas para definir os elementos desta lista. Este comando faz com que seja aplicada a função `reading_frames()` à sequência de DNA fornecida para obter as 6 reading frames desta sequência. A cada uma destas reading frames vai ser aplicada a função `proteinas rf()` que vai fornecer todas as possíveis proteínas de cada reading frame.\n",
        "\n",
        "O output final desta função será então uma lista de strings que correspondem às sequências das proteínas possíveis de cada ORF.\n"
      ]
    },
    {
      "cell_type": "code",
      "execution_count": null,
      "metadata": {
        "colab": {
          "base_uri": "https://localhost:8080/"
        },
        "id": "LwAocQGrzxgD",
        "outputId": "dff0b17c-bb61-48e8-be1a-b0e62b08f83c"
      },
      "outputs": [
        {
          "data": {
            "text/plain": [
              "['MLSRSLTL', 'MSQL', 'MQSSFPD']"
            ]
          },
          "execution_count": 10,
          "metadata": {},
          "output_type": "execute_result"
        }
      ],
      "source": [
        "def all_orfs(dna_seq : str) -> list[str]:\n",
        "    \"\"\"A partir de uma sequência de DNA fornece uma lista de todas as possíveis proteínas de todas as ORFs\"\"\"\n",
        "\n",
        "    assert validate_seq(dna_seq, 'DNA'), \"Sequência de DNA inválida!\"\n",
        "    protein = [p for rf in reading_frames(dna_seq) for p in proteinas_rf(rf)]\n",
        "    return protein\n",
        "\n",
        "all_orfs('tgaagatgcgatgcagtcatcgtttcctgactg ATGCTGAgcagatccctgacttT a TGA atgtcacagctttga')"
      ]
    },
    {
      "cell_type": "markdown",
      "metadata": {
        "id": "1DSHP6J5z8lK"
      },
      "source": [
        "#### **Função: all_orfs_max()**\n",
        "\n",
        "Esta função tem como objetivo retornar a maior proteína identificada em todoas as 6 ORFs de uma sequência de DNA válida. Para tal, usamos as funções anteriomente definidas: `validate_seq()`, `reading_frames()` e `proteinas_rf()`.\n",
        "\n",
        "A essência da função criada foi determinada com a aplicação de `sorted()`, função que permitiu ordenar as proteínas pelo tamanho e de forma crescente. Para recorrer a maior proteína, acedemos ao último elemento da lista ordenada de proteínas com o uso do índice [-1].  "
      ]
    },
    {
      "cell_type": "code",
      "execution_count": null,
      "metadata": {
        "colab": {
          "base_uri": "https://localhost:8080/",
          "height": 35
        },
        "id": "k_Koo9HJz89x",
        "outputId": "aec2733f-e1f6-4531-a892-90d0e11d59ae"
      },
      "outputs": [
        {
          "data": {
            "application/vnd.google.colaboratory.intrinsic+json": {
              "type": "string"
            },
            "text/plain": [
              "'MLSRSLTL'"
            ]
          },
          "execution_count": 11,
          "metadata": {},
          "output_type": "execute_result"
        }
      ],
      "source": [
        "def all_orfs_max(dna_seq, minsize=0) :\n",
        "    \"\"\"A função tem como objetivo obter dentre todas as possíveis proteínas para todas as 6 ORFs a proteína de maior tamanho.\n",
        "    Input: sequência de DNA (string) e o tamanho mínimo das proteínas a serem oredenadas (nº inteiro que se não for indicado é considerado 0)\n",
        "    Output: A maior sequencia de aa identificada nas 6 ORFs (string)\n",
        "    Caso da string inserida não ser uma sequência de DNA, o programa quebra indicando um ValueError \"Sequência de DNA inválida!\"\n",
        "    \"\"\"\n",
        "\n",
        "    # Garantir que o input DNA sequence é valido\n",
        "    assert validate_seq(dna_seq, 'DNA'), \"Sequência de DNA inválida!\"\n",
        "\n",
        "    # Obter as ORFs para a DNA sequence\n",
        "    rfs = reading_frames(dna_seq)\n",
        "\n",
        "    # Usa lista de compreenção para encontrar proteínas com o requesito de tamanho minimo\n",
        "    proteins = [p for rf in rfs for p in proteinas_rf(rf) if len(p) > minsize]\n",
        "\n",
        "    # Organiza as proteínas por tamanhos e define uma variável que busca a última proteína da lista formada na ordenação.\n",
        "    # Por consequência a última proteína da lista é a de maior tamanho.\n",
        "    ordered_proteins = sorted(proteins, key=len)\n",
        "    max_prot = ordered_proteins[-1]\n",
        "\n",
        "    return max_prot\n",
        "\n",
        "all_orfs_max(\"tgaagatgcgatgcagtcatcgtttcctgactg ATGCTGAgcagatccctgacttT a TGA atgtcacagctttga\")"
      ]
    },
    {
      "cell_type": "markdown",
      "metadata": {
        "id": "TSNnf1bk0Go3"
      },
      "source": [
        "## **Aplicação**\n",
        "\n",
        "Para exemplificar uma aplicação do algoritmo criado, buscamos a sequencia do organismo Sporothrix brasiliensis 5110 (Eukaryota; Fungi; Dikarya; Ascomycota; Pezizomycotina; Sordariomycetes; Sordariomycetidae; Ophiostomatales; Ophiostomataceae; Sporothrix).\n",
        "\n",
        "A sequencia usada foi:\n",
        "\n",
        "##### > NW_024467142.1:c20928-20119 Sporothrix brasiliensis 5110 chromosome Unknown Cont23, whole genome shotgun sequence\n",
        "\n",
        "GTGAATCAAGAAATCAGAAGTAATTTTCAAGATCATCCCTTTCATCTGGTATCTCCTTCTCCTTGACCAT\n",
        "TTTTTACTAGTTTATCTTTATTATCTTTAACTACACATGCTTCACTAAGTATACATAATTTTAGTAATGC\n",
        "TTATTATTTCTTTTATATAAGTTTATTTTTAGTTGTAGCTTCAATGTTTTTATGATTCCGTGATGTTATA\n",
        "AGTGAAGCTACATTTTTAGGTGATCATTCATTAGCTGTACAAAGAGGATTAAATTTAGGTGTTATGTTAT\n",
        "TTATAGTATCTGAAGCATTATTTTTCTTAGCTATATTTTGAGCTTTTTTCCATAGTGCCTTATCACCTAC\n",
        "TCCTGAATTAGGTGCTCAATGACCACCTTTAGGTATAGAACCTATTAATCCTTTTGAATTACCATTACTT\n",
        "AATACAGTTATATTATTAGCTAGTGGATCTACAATTACATATTCTCATCATGCTTTAATAAATGGTAATA\n",
        "GAAAAGCTGCTATATTAGGAGGTATATTTACTGTTATTTTAGCTATAGTATTTACTTTCTTTCAAGGGGT\n",
        "AGAATATAGTGAATCTTCTTTTACTATAAGTGATGGTGCATATGGTACATGTTTCTTTTTTGGAACAGGA\n",
        "TTTCACGGATTTCATGTTATAATAGGTACAATTTTTATATTTGTAGCTTTATGAAGAATAATTCGTTACC\n",
        "ATTTAACTGAAAATCATCATGTAGGACTTGAAGGTTCTATTGCTTATTGACATTTTGTTGATTTAATATG\n",
        "ACTTTTTCTATATTTGTCCATTTATTACTGGGGTTCATAA"
      ]
    },
    {
      "cell_type": "code",
      "execution_count": null,
      "metadata": {
        "id": "1ylG4vXL0TRY"
      },
      "outputs": [],
      "source": [
        "dna_sequence = \"GTGAATCAAGAAATCAGAAGTAATTTTCAAGATCATCCCTTTCATCTGGTATCTCCTTCTCCTTGACCATTTTTTACTAGTTTATCTTTATTATCTTTAACTACACATGCTTCACTAAGTATACATAATTTTAGTAATGCTTATTATTTCTTTTATATAAGTTTATTTTTAGTTGTAGCTTCAATGTTTTTATGATTCCGTGATGTTATAAGTGAAGCTACATTTTTAGGTGATCATTCATTAGCTGTACAAAGAGGATTAAATTTAGGTGTTATGTTATTTATAGTATCTGAAGCATTATTTTTCTTAGCTATATTTTGAGCTTTTTTCCATAGTGCCTTATCACCTACTCCTGAATTAGGTGCTCAATGACCACCTTTAGGTATAGAACCTATTAATCCTTTTGAATTACCATTACTTAATACAGTTATATTATTAGCTAGTGGATCTACAATTACATATTCTCATCATGCTTTAATAAATGGTAATAGAAAAGCTGCTATATTAGGAGGTATATTTACTGTTATTTTAGCTATAGTATTTACTTTCTTTCAAGGGGTAGAATATAGTGAATCTTCTTTTACTATAAGTGATGGTGCATATGGTACATGTTTCTTTTTTGGAACAGGATTTCACGGATTTCATGTTATAATAGGTACAATTTTTATATTTGTAGCTTTATGAAGAATAATTCGTTACCATTTAACTGAAAATCATCATGTAGGACTTGAAGGTTCTATTGCTTATTGACATTTTGTTGATTTAATATGACTTTTTCTATATTTGTCCATTTATTACTGGGGTTCATAA\"\n",
        "\n",
        "dna_sequence_len = len(dna_sequence)\n",
        "nucleotideo_frequence = calculate_frequency(dna_sequence)\n",
        "GC_content = gc_percentage(dna_sequence)\n",
        "max_protein = all_orfs_max(dna_sequence)\n",
        "len_max_protein = len(max_protein)\n"
      ]
    },
    {
      "cell_type": "markdown",
      "metadata": {
        "id": "yZoQv5Hv4D07"
      },
      "source": [
        "#### **Uso do modulo tabela:**\n",
        "\n",
        "Com a instalação do módulo [tabulate](https://www.askpython.com/python-modules/tabulate-tables-in-python) e com o uso da função `tabulate()` criamos uma tabela que represente um sumário das informações contida na sequência de estudo, com os parâmetros definidos na célula anterior."
      ]
    },
    {
      "cell_type": "code",
      "execution_count": null,
      "metadata": {
        "id": "hdL8LMEi38_n"
      },
      "outputs": [],
      "source": [
        "# pip install tabulate"
      ]
    },
    {
      "cell_type": "code",
      "execution_count": null,
      "metadata": {
        "colab": {
          "base_uri": "https://localhost:8080/"
        },
        "id": "gNps15Fq0e3m",
        "outputId": "774c4ec5-9c1b-4876-ad39-df7523d0c6a2"
      },
      "outputs": [
        {
          "name": "stdout",
          "output_type": "stream",
          "text": [
            "+-------------------------------------+------------------------------------------+\n",
            "| Comprimento da sequência em análise | 810                                      |\n",
            "+-------------------------------------+------------------------------------------+\n",
            "| Frequência de cada nucleótido       | {'A': 231, 'C': 111, 'G': 119, 'T': 349} |\n",
            "+-------------------------------------+------------------------------------------+\n",
            "| Percentagem de GC                   | 28.4                                     |\n",
            "+-------------------------------------+------------------------------------------+\n",
            "| Maior proteína gerada nas 6 ORFs    | MKSVKSCSKKETCTICTITYSKRRFTIFYPLKESKYYS   |\n",
            "+-------------------------------------+------------------------------------------+\n",
            "| Tamanho desta proteína              | 38                                       |\n",
            "+-------------------------------------+------------------------------------------+\n"
          ]
        }
      ],
      "source": [
        "from tabulate import tabulate\n",
        "if validate_seq(dna_sequence, 'DNA') == True:\n",
        "  mydata = [\n",
        "    [\"Comprimento da sequência em análise\", dna_sequence_len],\n",
        "    [\"Frequência de cada nucleótido\", nucleotideo_frequence ],\n",
        "    [\"Percentagem de GC\", GC_content],\n",
        "      [\"Maior proteína gerada nas 6 ORFs\", max_protein],\n",
        "    [\"Tamanho desta proteína\", len_max_protein],\n",
        "    ]\n",
        "  print(tabulate(mydata, tablefmt=\"grid\"))\n",
        "else : print(\"A sequência é inválida\")"
      ]
    },
    {
      "cell_type": "markdown",
      "metadata": {
        "id": "qWtvVeL0v45F"
      },
      "source": [
        "### **Algoritmo de Needleman-Wrunst**\n"
      ]
    },
    {
      "cell_type": "markdown",
      "metadata": {
        "id": "WN9GtaNceuIR"
      },
      "source": [
        " O algoritmo de **Needleman-Wunsch** é um algoritmo clássico de programação dinâmica que possibilita o alinhamento global ótimo a partir da atribuição de um 'score' aos caracteres e penalizações aos denominados GAP's (espacos vazios na sequência).\n",
        "\n",
        "Inicialmente, foi definida uma função **'formatar'** que é utilizada para a formatação da matriz que, para este caso, optámos por utilizar três espaços vazios à esquerda. A seguir, a funcao **'print_matrix'** imprime uma matriz com colunas (S1) e linhas (S2).\n",
        "\n",
        "Ao comparar duas sequências, vamos analisar se esses caracteres são iguais (score = 2), diferentes (score = -1) ou se pelo menos um desses caracteres é '-' (score = g).\n",
        "\n",
        "A função **Score_subst** vai ser responsável por calcular esse valor entre dois caracteres, denominados de x1 e x2.\n",
        "\n",
        "Posteriormente, a função **needleman_wunsch** começa por adicionar espaços em branco (representando os Gap's) no inicio de cada sequência. Seguidamente, é obtido o número de linhas e colunas para o score e para o trace. Nas linhas `score = [[0] * ncols for _ in range(nlins)]` e `trace = [[''] * ncols for _ in range(nlins)] ` é dada a indicação para iniciar com '0' e '-' as matrizes de score e trace , respetivamente. Posteriormente, são realizados sucessivos loops, onde definimos direções 'diag' ' left' e 'up' de forma a preencher ambas as matrizes. A função **reconstruct**, é responsável por percorrer a matriz de direções do algoritmo Needleman-Wunsch e construir as sequências alinhadas com base nas escolhas de direção feitas durante o preenchimento da matriz. Isto é feito aravés das seguintes linhas de código :\n",
        "\n",
        "`if trace[L][C] == 'D':A1, A2, L, C = S1[C] + A1, S2[L] + A2, L - 1, C - 1 ` Se a direção indicada na célula atual for 'D' (diagonal), adiciona os caracteres correspondentes de S1 e S2 às sequências alinhadas A1 e A2. Em seguida, move para a célula diagonal anterior (subtraindo 1 de L e C).\n",
        "\n",
        "` elif trace[L][C] == 'C': A1, A2, L = '-' + A1, S2[L] + A2, L - 1` Se a direção indicada for 'C' (cima), adiciona um gap à sequência S1 (representado por '-') e o caractere correspondente de S2 à sequência alinhada A2. Move para a célula acima (subtraindo 1 de L).\n",
        "\n",
        "`elif trace[L][C] == 'E': A1, A2, C = S1[C] + A1, '-' + A2, C - ` Se a direção indicada for 'E' (esquerda), adiciona o caractere correspondente de S1 à sequência alinhada A1 e um gap à sequência S2. Move para a célula à esquerda (subtraindo 1 de C).\n"
      ]
    },
    {
      "cell_type": "code",
      "execution_count": null,
      "metadata": {
        "colab": {
          "base_uri": "https://localhost:8080/"
        },
        "id": "0_PZZdpmzQzd",
        "outputId": "706edd2f-2528-4421-9c2d-a5cb57109793"
      },
      "outputs": [
        {
          "data": {
            "text/plain": [
              "(2, ('A-CT', 'ACCT'))"
            ]
          },
          "execution_count": 16,
          "metadata": {},
          "output_type": "execute_result"
        }
      ],
      "source": [
        "#Função auxiliar para formatação de números e letras\n",
        "def formatar(x):\n",
        "  \"\"\"Essa função adiciona espaçamentos na direita\"\"\"\n",
        "  return f\"{x:>3d}\" if isinstance(x, int) else f\"{x:>3}\"\n",
        "\n",
        "#Função auxiliar.\n",
        "def print_matrix(S1, S2, M):\n",
        "  \"\"\"Formata a matriz\"\"\"\n",
        "  print(\"       \", *S1)\n",
        "  for x2, row in zip([' '] + list(S2), M):\n",
        "      formatted_row = [formatar(x) for x in row]\n",
        "      print(x2, *formatted_row)\n",
        "\n",
        "#Função que determina score\n",
        "def score_subst(x1 : str, x2 : str, g=-4) -> int:\n",
        "  \"\"\"Determina o score\n",
        "  Input: dois nucleotidos (strings) e o valor do gap (int)\n",
        "  Output: um input\"\"\"\n",
        "  x1=x1.upper()\n",
        "  x2=x2.upper()\n",
        "  return g if '-' in (x1, x2) else 2 if x1 == x2 else -1\n",
        "\n",
        "def needleman_wunsch(S1 : str, S2 : str, score_space : int, score_subst):\n",
        "    \"\"\"Tem como objetivo realizar o alinhamento entre duas sequêcias\n",
        "    Iput: duas sequências de interesse (strings), o valor do gap (int) e a função score_subst\n",
        "    Output: o alinhamento final e o score do alinhamento\"\"\"\n",
        "\n",
        "    assert validate_seq(S1, 'DNA'), \"A 1ª sequência fornecida é inválida!\"\n",
        "    assert validate_seq(S2, 'DNA'), \"A 2ª sequência fornecida é inválida!\"\n",
        "\n",
        "    #Adicionar \"-\" nas duas sequências\n",
        "    S1 = '-' + S1.upper().replace(' ', '')\n",
        "    S2 = '-' + S2.upper().replace(' ', '')\n",
        "\n",
        "    #Determinar o número de linhas e colunas\n",
        "    ncols, nlins = len(S1), len(S2)\n",
        "\n",
        "    #Inicializar as matrizes com zeros e strings vazias\n",
        "    score = [[0] * ncols for _ in range(nlins)]\n",
        "    trace = [[''] * ncols for _ in range(nlins)]\n",
        "\n",
        "    #Inicializar a matriz\n",
        "    for L in range(nlins):\n",
        "        score[L][0] = L * score_space\n",
        "        trace[L][0] = 'C' if L > 0 else ''\n",
        "\n",
        "    for C in range(ncols):\n",
        "        score[0][C] = C * score_space\n",
        "        trace[0][C] = 'E' if C > 0 else ''\n",
        "\n",
        "    #Determinar o preenchimento da matriz\n",
        "    for L in range(1, nlins):\n",
        "        for C in range(1, ncols):\n",
        "            diag = score[L - 1][C - 1] + score_subst(S1[C], S2[L], score_space)\n",
        "            left = score[L][C - 1] + score_space\n",
        "            up = score[L - 1][C] + score_space\n",
        "\n",
        "            choices = [diag, left, up]\n",
        "            trace[L][C] = 'DEC'[choices.index(max(choices))]\n",
        "            score[L][C] = max(choices)\n",
        "\n",
        "    #print_matrix(S1[1:], S2[1:], score)\n",
        "    #print_matrix(S1[1:], S2[1:], trace)\n",
        "\n",
        "    return score[-1][-1], reconstruct(S1, S2, trace)\n",
        "\n",
        "def reconstruct(S1, S2, trace):\n",
        "    \"\"\"Tem como objetivo em reconstruir as sequências após a determinação das matrizes de alinhamento\n",
        "    Input: as duas sequências de interesse (strings) e a matriz trace do alinhamento.\n",
        "    Output: As duas sequências alinhadas (string).\"\"\"\n",
        "    A1, A2 = '', ''\n",
        "    L, C = len(S2) - 1, len(S1) - 1\n",
        "\n",
        "    #Reconstrução do alinamento, determinando a adiçao de gaps quando necessário.\n",
        "    while trace[L][C] != '':\n",
        "        if trace[L][C] == 'D':\n",
        "            A1, A2, L, C = S1[C] + A1, S2[L] + A2, L - 1, C - 1\n",
        "        elif trace[L][C] == 'C':\n",
        "            A1, A2, L = '-' + A1, S2[L] + A2, L - 1\n",
        "        elif trace[L][C] == 'E':\n",
        "            A1, A2, C = S1[C] + A1, '-' + A2, C - 1\n",
        "\n",
        "    #print(A1, A2, sep=\"\\n\")\n",
        "    return A1, A2\n",
        "\n",
        "needleman_wunsch(\"ACT\", \"aCcT\", -4, score_subst)\n"
      ]
    },
    {
      "cell_type": "markdown",
      "metadata": {
        "id": "77g1R-CFkUSR"
      },
      "source": [
        "## BLAST\n",
        "O algoritmo **BLAST** (Basic Local Alignment Search Tool) é uma ferramenta amplamente utilizada na bioinformática para encontrar regiões de similaridade entre sequências biológicas, como sequências de DNA, RNA ou proteínas. Este é projetado para encontrar alinhamentos locais significativos, o que o torna eficaz para comparar sequências biológicas de diferentes comprimentos.\n",
        "A implementação do BLAST em Python pode ser feita utilizando bibliotecas específicas, como o **Biopython**, que ofere uma data de funcionalidades para facilitar o trabalho com dados biológicos.\n"
      ]
    },
    {
      "cell_type": "code",
      "execution_count": null,
      "metadata": {
        "colab": {
          "base_uri": "https://localhost:8080/"
        },
        "id": "PVr1gXD8kODn",
        "outputId": "dd5a4ede-3284-4eee-f29e-a998bc062009"
      },
      "outputs": [
        {
          "data": {
            "text/plain": [
              "{'AAT': [0, 12, 15],\n",
              " 'ATA': [1, 8, 10, 13, 16],\n",
              " 'TAT': [2, 7, 9, 17],\n",
              " 'ATG': [3],\n",
              " 'TGT': [4],\n",
              " 'GTT': [5],\n",
              " 'TTA': [6],\n",
              " 'TAA': [11, 14],\n",
              " 'ATT': [18]}"
            ]
          },
          "execution_count": 17,
          "metadata": {},
          "output_type": "execute_result"
        }
      ],
      "source": [
        "def map(query: str, w:int = 3 ) -> dict[str, list[int]]:\n",
        "  \"\"\"\n",
        "  Objetivo: encontrar substrings de um determinado tamanho assim como as suas  posições iniciais numa sequência fornecida\n",
        "  É uma função auxiliar para a função hits() pois permitirá encontrar mais rapidamente os matches entre duas sequências\n",
        "e as posições iniciais de cada um desses matches nas sequências\n",
        "  Input: sequência query (string) + tamanho da janela (nº de bases/caracteres que queremos que as substrings que procuramos tenham)\n",
        "  O tamanho das substrings/janela será assumido como 3 caso não seja fornecido\n",
        "  Output: um dicionário cuja a chave são todas as substrings de tamnho w da query e o valor é uma lista com todos os offset onde aparecem\n",
        "  \"\"\"\n",
        "  query = query.replace(' ', '').upper()\n",
        "  lista = [i for i in query]\n",
        "\n",
        "  lista_w = []\n",
        "  for i,elem in enumerate(lista):\n",
        "    f = i + w\n",
        "    substring = query[i:f]\n",
        "    if len(substring) == w:\n",
        "      lista_w += [substring]\n",
        "\n",
        "  dic = {}\n",
        "  for i,elem in enumerate(lista_w):\n",
        "    if elem not in dic:\n",
        "      dic[elem] = []\n",
        "    dic[elem].append(i)\n",
        "  return(dic)\n",
        "\n",
        "\n",
        "map(\"AAT ATG TTA tat AAT AAT att\", 3)"
      ]
    },
    {
      "cell_type": "code",
      "execution_count": null,
      "metadata": {
        "colab": {
          "base_uri": "https://localhost:8080/"
        },
        "id": "WSD8BNdNkg_H",
        "outputId": "bd22c83b-def3-4e21-b62b-b2f2e3fb10bc"
      },
      "outputs": [
        {
          "data": {
            "text/plain": [
              "[[0, 1],\n",
              " [0, 8],\n",
              " [0, 10],\n",
              " [0, 13],\n",
              " [0, 16],\n",
              " [2, 1],\n",
              " [2, 8],\n",
              " [2, 10],\n",
              " [2, 13],\n",
              " [2, 16],\n",
              " [1, 2],\n",
              " [1, 7],\n",
              " [1, 9],\n",
              " [1, 17],\n",
              " [3, 2],\n",
              " [3, 7],\n",
              " [3, 9],\n",
              " [3, 17]]"
            ]
          },
          "execution_count": 18,
          "metadata": {},
          "output_type": "execute_result"
        }
      ],
      "source": [
        "def hits(query: str, seq:str, w:int = 3) -> list[list]:\n",
        "  \"\"\"\n",
        "  Objetivo: comparar as substrings de duas sequências fornecidas e encontrar as posições dos matches obtidos na comparação\n",
        "  Utiliza a função auxiliar map() para obter o dicionário com as substrings e posições iniciais das sequências fornecidas\n",
        "  Input: sequência query (string) e sequência (referência) à qual a pretendemos comparar (string) e o tamanho do match (w)\n",
        "  Output: uma lista com a lista que tem as posições de cada match ao comparar as duas sequências\n",
        "  (o 1º nº corresponde à posição inicial do match na query e o 2º à posição inicial na seq)\n",
        "  \"\"\"\n",
        "  dic_query = map(query, w)\n",
        "  dic_seq = map(seq, w)\n",
        "  lista = []\n",
        "  qlista = []\n",
        "  for i in dic_query.keys():\n",
        "    for l in dic_seq.keys():\n",
        "      if i == l:\n",
        "        lista += [dic_seq.get(l)]\n",
        "        qlista += [dic_query.get(i)]\n",
        "\n",
        "  contador = list(range(len(lista)))\n",
        "  indices = [[i, l] for x in contador for i in qlista[x] for l in lista[x]]\n",
        "  return indices\n",
        "\n",
        "hits(\"ATA TAT\", \"AAT ATG TTA TAT AAT AAT ATT\")"
      ]
    },
    {
      "cell_type": "code",
      "execution_count": null,
      "metadata": {
        "colab": {
          "base_uri": "https://localhost:8080/"
        },
        "id": "iaS-nVMVKSQP",
        "outputId": "2f375180-f0a0-40be-8c96-b0eec8a87566"
      },
      "outputs": [
        {
          "data": {
            "text/plain": [
              "['TAT', 'TGTTATATAATAATATT']"
            ]
          },
          "execution_count": 19,
          "metadata": {},
          "output_type": "execute_result"
        }
      ],
      "source": [
        "#Função auxiliar para extend_hit()\n",
        "def extend_direcao(query : str, seq : str, h : tuple[int, int], direc : int , w : int = 3) -> list[str]:\n",
        "  \"\"\"\n",
        "  Objetivo: extender as sequências para a esquerda ou para a direita a partir dos matches encontrados\n",
        "  Função auxiliar que permite extender as sequências depois de ser verificado um match entre substrings das duas sequências\n",
        "  Vai ser necessária para a função extend_hit()\n",
        "  Input:\n",
        "  1. sequência query (string)\n",
        "  2. sequência 'referência' (string)\n",
        "  3. um tuple com as posições iniciais de  determinado match em cada sequências (1º o offset na query e o 2º o offset na seq)\n",
        "  4. direção em que queremos estender o match (esquerda (-1) ou direita (1))\n",
        "  5. tamanho do match (nº inteiro de caractere/bases, assumido como 3 caso não seja indicado)\n",
        "\n",
        "  Output: strings resultantes da extensão da query e da sequência 'referência' na direção pretendida\n",
        "  Estas extensões  não têm a substring (match)\n",
        "  Se a direção da extensão for a esquerda a string resultante desta função estará em ordem reversa para facilitar o processo nas funções seguintes\n",
        "  \"\"\"\n",
        "  h1 = h[0]\n",
        "  h2 = h[1]\n",
        "  query = query.replace(' ', '').upper()\n",
        "  seq = seq.replace(' ', '').upper()\n",
        "  seq_extend_query = ''\n",
        "  seq_extend_seq = ''\n",
        "  if len(query) < w:\n",
        "    return ''\n",
        "  if direc == +1:\n",
        "    seq_extend_query = query[h1 + w :]\n",
        "    seq_extend_seq = seq[h2 + w :]\n",
        "  if direc == -1:\n",
        "    seq_extend_query = query[h1::direc][1:]\n",
        "    seq_extend_seq = seq[h2::direc][1:]\n",
        "\n",
        "  return [seq_extend_query, seq_extend_seq]\n",
        "\n",
        "query = \"ATA TAT\"\n",
        "seq = \"AAT ATG TTA TAT AAT AAT ATT\"\n",
        "extend_direcao(query, seq, (0, 1), 1, 3)"
      ]
    },
    {
      "cell_type": "code",
      "execution_count": null,
      "metadata": {
        "id": "0jmMHDWHD8dE"
      },
      "outputs": [],
      "source": [
        "#Função auxiliar para extend_hit()\n",
        "def consenso(seq1: str, seq2: str) -> list[str, int]:\n",
        "  \"\"\"\n",
        "  Objetivo: encontrar os caractéres iguais (matches) entre as posições das sequências fornecidas\n",
        "  e contar o nº de matches enquanto este for pelo menos metade do tamanho da extensão\n",
        "  Input: sequências (as sequências extendidas que resultam da função extend_direcao() dado que esta é uma função auxiliar)\n",
        "  Output: lista com uma sequência consenso entre as sequências fornecidas, onde todos os mismatches são substituídos por '-' e com o nº de matches total\n",
        "  \"\"\"\n",
        "  matches = 0\n",
        "  nmis = 0\n",
        "  seqf = ''\n",
        "  s1 = seq1.upper().replace(' ', '')\n",
        "  s2 = seq2.upper().replace(' ', '')\n",
        "\n",
        "  if len(s1) > 0 and len(s2) > 0:\n",
        "    if s1[0] == s2[0]:\n",
        "      matches += 1\n",
        "      seqf += s1[0]\n",
        "    else:\n",
        "      nmis += 1\n",
        "      seqf += \"-\"\n",
        "    for x in range(1, min(len(s1), len(s2))):\n",
        "      if s1[x] == s2[x]:\n",
        "        matches += 1\n",
        "        seqf += s1[x]\n",
        "      else:\n",
        "        nmis += 1\n",
        "        if nmis <= matches:\n",
        "          seqf += \"-\"\n",
        "    if seqf == '-':\n",
        "      seqf = ''\n",
        "    [seqf, matches]\n",
        "  else:\n",
        "    return ['', 0]\n",
        "  return [seqf, matches]"
      ]
    },
    {
      "cell_type": "code",
      "execution_count": null,
      "metadata": {
        "colab": {
          "base_uri": "https://localhost:8080/"
        },
        "id": "wDhItyYjr4wL",
        "outputId": "ec92f176-779e-4771-bf48-68f09099d275"
      },
      "outputs": [
        {
          "name": "stdout",
          "output_type": "stream",
          "text": [
            "['GG--', 2]\n",
            "['T-', 1]\n",
            "['-T', 1]\n",
            "['', 0]\n"
          ]
        }
      ],
      "source": [
        "query = \"gggtAAAggtttg\"\n",
        "seq = \"ttttctAAAggcccttt\"\n",
        "ex = extend_direcao(query, seq, (4, 6), 1, 3)\n",
        "x = extend_direcao(query, seq, (4, 6), -1, 3)\n",
        "print(consenso(ex[0], ex[1]))\n",
        "print(consenso(x[0], x[1]))\n",
        "print(consenso('ata', 'GTG'))\n",
        "print(consenso('AAA', 'GTG'))"
      ]
    },
    {
      "cell_type": "code",
      "execution_count": null,
      "metadata": {
        "colab": {
          "base_uri": "https://localhost:8080/"
        },
        "id": "a8yBLYij-eRi",
        "outputId": "e8f7abd9-b0ff-41a8-dd01-f93ee5634ba7"
      },
      "outputs": [
        {
          "data": {
            "text/plain": [
              "(0, 15, 7, 6)"
            ]
          },
          "execution_count": 22,
          "metadata": {},
          "output_type": "execute_result"
        }
      ],
      "source": [
        "def extend_hit(query:str, seq: str, h : tuple[int, int], w:int = 3):\n",
        "  \"\"\"\n",
        "  Objetivo: extender o hit (match) encontrado entre duas sequências em cada direção enquanto o nº de matches for pelo menos metade do tamanho da extensão\n",
        "  Input: sequência query, sequência 'referência', tuple com o offset do hit nas duas sequências fornecidas e o tamanho da janela (w)\n",
        "  Output: tuple com os offsets do hit extendido nas duas sequências, o tamanho do hit extendido e o nº de matches\n",
        "  \"\"\"\n",
        "  #estender para direita e para a esquerda\n",
        "  esq = extend_direcao(query, seq, h, -1, w)\n",
        "  dir = extend_direcao(query, seq, h, 1, w)\n",
        "\n",
        "  #Fazer as sequências consenso e determinar o número de matches:\n",
        "  esq_cons, esq_match = consenso(esq[0], esq[1])\n",
        "  dir_cons, dir_match = consenso(dir[0], dir[1])\n",
        "\n",
        "  #número matches\n",
        "  nmatch = esq_match + dir_match\n",
        "  pos_query_ext = h[0]-len(esq_cons)\n",
        "  pos_seq_ext   = h[1]-len(esq_cons)\n",
        "\n",
        "  s = 0\n",
        "  i = 1\n",
        "  while i <= len(esq_cons) and esq_cons[-i] == \"-\":\n",
        "    s += 1\n",
        "    i += 1\n",
        "  tamanho_final_esq = len(esq_cons) - s\n",
        "\n",
        "  a = 0\n",
        "  b = 1\n",
        "  while i <= len(dir_cons) and dir_cons[-b] == \"-\":\n",
        "    a += 1\n",
        "    b += 1\n",
        "  tamanho_final_dir = len(dir_cons) - a\n",
        "  tamanho_final = tamanho_final_dir + tamanho_final_esq\n",
        "\n",
        "  return (pos_query_ext, pos_seq_ext, tamanho_final + w, nmatch + w)\n",
        "\n",
        "query = \"AATATAT\"\n",
        "seq = \"AATATGTTATATAATAATATTT\"\n",
        "extend_hit(query, seq, (1,16), 3)\n"
      ]
    },
    {
      "cell_type": "code",
      "execution_count": null,
      "metadata": {
        "colab": {
          "base_uri": "https://localhost:8080/"
        },
        "id": "FnX3o42pnkxv",
        "outputId": "c9c064af-620f-42e3-e11e-0d8853493775"
      },
      "outputs": [
        {
          "data": {
            "text/plain": [
              "(0, 0, 7, 6)"
            ]
          },
          "execution_count": 23,
          "metadata": {},
          "output_type": "execute_result"
        }
      ],
      "source": [
        "#Funçao best_hits()\n",
        "def best_hit(query:str, seq:str, w:int =3) -> tuple[int, int, int, int]:\n",
        "  \"\"\"\n",
        "  Objetivo: encontrar a extensão com o melhor score (maior nº de matches)\n",
        "  Input: sequências query, sequência 'referência' e o tamanho da janela\n",
        "  Output: os offsets da melhor extensão na query e sequencia referência, tamanho do hit extendido e nº de matches\n",
        "  \"\"\"\n",
        "  todos_hits = hits(query, seq, w)\n",
        "\n",
        "  if todos_hits != []:\n",
        "    res = []\n",
        "    for hit in todos_hits:\n",
        "      res += [extend_hit(query, seq, hit, w)]\n",
        "\n",
        "    b_hit = res[0]\n",
        "    for x in res:\n",
        "      if x[2] <= b_hit[2] and x[3] > b_hit[3]:\n",
        "        b_hit = x\n",
        "      if x[2] < b_hit[2] and x[3] == b_hit[3]:\n",
        "        b_hit = x\n",
        "      if x[2] == b_hit[2] and x[3] == b_hit[3] and x[1] < b_hit[1] and x[0] < b_hit[0]:\n",
        "        b_hit = x\n",
        "    return b_hit\n",
        "  else:\n",
        "    return 'Não há matches entre as sequências.'\n",
        "\n",
        "best_hit(\"AATATAT\", \"AATATGTTATATAATAATATTT\", 3)"
      ]
    },
    {
      "cell_type": "markdown",
      "metadata": {
        "id": "nNoDiy4JmvFd"
      },
      "source": [
        "# Expressões Regulares/Metacarateres"
      ]
    },
    {
      "cell_type": "markdown",
      "metadata": {
        "id": "vNliGEfllBMu"
      },
      "source": [
        "As expressões regulares em Python, também conhecidas como \"regex\", utilizam uma sintaxe especial para escrever os padrões. Estas são importadas através do módulo `re` e podem ser usadas para validação, procura, filtragem, divisão de strings e remoção de caracteres específicos. A linguagem de expressão regular é relativamente pequena e restrita, e nem todas as tarefas de processamento de strings podem ser feitas usando expressões regulares. Como usam muitas vezes o `\\` , que também é usado nas strings para representar carateres especiais (como o newline `\\n`), as expressões regulares não devem ser tratadas como uma string normal. Deste modo, usa-se o prefixo r (de raw) antes de se escrever uma expressão regular.\n"
      ]
    },
    {
      "cell_type": "code",
      "execution_count": null,
      "metadata": {
        "colab": {
          "base_uri": "https://localhost:8080/"
        },
        "id": "tNSAvwfOzOVf",
        "outputId": "e406932b-7eec-40bf-cb3c-2e1aba9eddf4"
      },
      "outputs": [
        {
          "name": "stdout",
          "output_type": "stream",
          "text": [
            "======================  ==================================================\n",
            "PATTERN                 DESCRIPTION\n",
            "======================  ==================================================\n",
            "^                       Início da string\n",
            "$                       Final da string\n",
            "*                       Zero ou mais ocorrências\n",
            "+                       Uma ou mais ocorrências\n",
            "{}                      Exatamente o número especificado de ocorrências\n",
            ".                       Qualquer caractere, exceto nova linha\n",
            "\\w                      Qualquer palavra\n",
            "\\d                      Qualquer digito\n",
            "\\s                      Qualquer whitespace\n",
            "[abc]                   Qualquer dos elementos no conjunto\n",
            "[^abc]                  Qualquer caracter excepto os elementos no conjunto\n",
            "[a-z]                   Qualquer caracter entre a e z\n",
            "|                       Representar alternativas (ou)\n",
            "()                      Capturar e agrupar\n",
            "[ACTGactg]              Corresponde à base de DNA\n",
            "[ACDEFGHIKLMNPQRSTVWY]  Corresponde aos aminoácido\n",
            "======================  ==================================================\n"
          ]
        }
      ],
      "source": [
        "from tabulate import tabulate\n",
        "def create_table():\n",
        "    expressões_regulares = [\n",
        "        ['^', 'Início da string'],\n",
        "        ['$', 'Final da string'],\n",
        "        ['*', 'Zero ou mais ocorrências'],\n",
        "        ['+', 'Uma ou mais ocorrências'],\n",
        "        ['{}', 'Exatamente o número especificado de ocorrências'],\n",
        "        ['.', 'Qualquer caractere, exceto nova linha'],\n",
        "        ['\\w', 'Qualquer palavra'],\n",
        "        ['\\d', 'Qualquer digito'],\n",
        "        ['\\s', 'Qualquer whitespace'],\n",
        "        ['[abc]', 'Qualquer dos elementos no conjunto'],\n",
        "        ['[^abc]', 'Qualquer caracter excepto os elementos no conjunto'],\n",
        "        ['[a-z]', 'Qualquer caracter entre a e z'],\n",
        "        ['|', 'Representar alternativas (ou)'],\n",
        "        ['()', 'Capturar e agrupar'],\n",
        "        ['[ACTGactg]', 'Corresponde à base de DNA'],\n",
        "        ['[ACDEFGHIKLMNPQRSTVWY]', 'Corresponde aos aminoácido ']\n",
        "    ]\n",
        "    headers = ['PATTERN', 'DESCRIPTION']\n",
        "    table = tabulate(expressões_regulares, headers, tablefmt='rst')\n",
        "    return table\n",
        "\n",
        "table = create_table()\n",
        "print(table)"
      ]
    },
    {
      "cell_type": "markdown",
      "metadata": {
        "id": "axD5lsGzpneh"
      },
      "source": [
        "O módulo **re** oferece ainda diversas funções, incluindo:\n",
        "\n",
        "`re.findall()` : Retorna uma lista contendo todas as correspondências.\n",
        "\n",
        "`re.search()`  : Retorna um objeto Match se houver uma correspondência em qualquer lugar da string.\n",
        "\n",
        "`re.match()`: Retorna um objeto Match se houver uma correspondência no início da string.\n",
        "\n",
        "`re.split()` : Retorna uma lista onde a string foi dividida em cada correspondência.\n",
        "\n",
        "`re.sub()` : Substitui uma ou mais correspondências por uma string.\n",
        "\n",
        "`re.finditer()` : Devolve um iterador que procura em todas as ocorrências\n",
        "\n",
        "`re.compile()` : compila a expressão regular\n",
        "\n",
        "# Aplicações\n"
      ]
    },
    {
      "cell_type": "code",
      "execution_count": null,
      "metadata": {
        "colab": {
          "base_uri": "https://localhost:8080/"
        },
        "id": "bKoi5DXLP4CA",
        "outputId": "8c8661fa-1a50-4a3a-a9b8-ee7e85a2c7fc"
      },
      "outputs": [
        {
          "name": "stdout",
          "output_type": "stream",
          "text": [
            "['A', 'sequência', 'de', 'DNA', 'contém', '1258bp']\n",
            "A sequência de RNA é inválida. Por favor, inserir sequência de RNA válida \n",
            "(0, 6)\n",
            "(64, 70)\n"
          ]
        }
      ],
      "source": [
        "import re\n",
        "\n",
        "# Dividir a string em cada espaço em branco\n",
        "text = \"A sequência de DNA contém 1258bp\"\n",
        "words = re.split(r'\\s', text)\n",
        "print(words)\n",
        "\n",
        "# Substituir todas as ocorrências de \"DNA\" por \"RNA\"\n",
        "text = \"A sequência de DNA é inválida. Por favor, inserir sequência de DNA válida \"\n",
        "new_text = re.sub(r'DNA', 'RNA', text)\n",
        "print(new_text)\n",
        "\n",
        "#Encontrar todas as ocorrências de \"Python\" numa string\n",
        "text = \"Python é uma linguagem de programação. Eu gosto de programar em Python.\"\n",
        "matches = re.finditer(r'Python', text)\n",
        "for match in matches:\n",
        "    print(match.span())\n"
      ]
    },
    {
      "cell_type": "markdown",
      "metadata": {
        "id": "TxzU0tVgGLrI"
      },
      "source": [
        "\n",
        "### Expressões regulares representantes de sequências biológicas:\n",
        "Expressões que correspondem à família de sequências -> AT, AGC, AGCGC, ATGCGCGC, ATGCGCGCGC\n",
        "* `A*` ( sequência que começa com 'A' seguida de zero ou + carcateres)\n",
        "\n",
        "* ` AT?GC +  ` ( 'A' seguido opcionalmente por 'T' seguido por um ou + 'GC')\n",
        "\n",
        "* `AT*GC+` ( 'A' seguido por zero ou mais 'T' seguido por zero ou mais 'GC')\n",
        "\n",
        "* `AT*GC {0, }`  ( 'A' seguido por zero ou mais 'T', seguido por zero ou mais ocorrências de 'GC')\n",
        "\n",
        "* `AT|AGC|AGCGC|ATGCGCGC|ATGCGCGCGC`"
      ]
    },
    {
      "cell_type": "markdown",
      "metadata": {
        "id": "uBsRat2SHIbz"
      },
      "source": [
        "### **Motifs probabilísticos**"
      ]
    },
    {
      "cell_type": "markdown",
      "metadata": {
        "id": "kwjEAMfIGaAJ"
      },
      "source": [
        "Os motifs probabilísticos em Python referem-se a padrões ou sequências de eventos que ocorrem com uma certa probabilidade num conjunto de dados. Em bioinformática, por exemplo, os motifs podem representar padrões de nucleótidos em sequências de DNA, podendo também ser utilizados para encontrar regiões conservadas em sequências de DNA ou RNA. Em Python, existem bibliotecas e ferramentas que permitem a identificação e análise de motifs probabilísticos, sendo úteis nas áreas de biologia computacional, análise de dados e machine learning.\n",
        "\n",
        "* A função inicial **print_profile** é utilizada para formatação de uma tabela a\n",
        "partir de uma lista de dicionários. Na primeira linha do código, define-se uma função denominada print_profile que recebe o argumento 'perfil'. Depois, é feita a ordenação de bases, onde se cria uma variável 'bases', sendo armazenado nessa variável, a partir do dicionário perfil, todas as chaves, garantindo que todos os dicionários possuem as mesmas chaves. A linha ` tab = [[f\"{p[b]:-5.2f}\" for b in bases] for p in perfil]`, formata os valores obtidos em 'bases', criando uma lista de duas dimensões, em que cada elemento é um valor do dicionário 'perfil' formatado. Posteriormente, é criado um ciclo 'for', utilizado para iterar sobre as tuplas de `zip(*([bases] + tab))`.\n",
        "\n"
      ]
    },
    {
      "cell_type": "code",
      "execution_count": null,
      "metadata": {
        "id": "RhMKYdRFIHZ2"
      },
      "outputs": [],
      "source": [
        "def print_profile(perfil):\n",
        "    \"\"\"\n",
        "  Objetivo: Formatar uma tabela a partir de uma lista de dicionários\n",
        "  Input: Perfil contendo informações sobre as bases, estrutura e características\n",
        "  Output: Exibição das informações de perfil de maneira organizada e fácil de interpretar\n",
        "  \"\"\"\n",
        "\n",
        "  bases = sorted(perfil[0].keys())\n",
        "  tab = [[f\"{p[b]:-5.2f}\" for b in bases] for p in perfil]\n",
        "  for p in zip(*([bases] + tab)):\n",
        "    print(*p)"
      ]
    },
    {
      "cell_type": "markdown",
      "metadata": {
        "id": "3zfQC-FRbTAw"
      },
      "source": [
        "* A segunda função, definida como **pwm** que recebe o argumento 'alinhamento' e o 'pseudo', onde o pseudo, neste caso é igual a 0. Inicialmente, para garantir que a sequência inserida é válida, cria-se uma variável denominada 'bases', que contém todas as posibilidades de nucleótidos (ATCG); um ciclo for, sendo este responsável por percorrer toda a sequência e identificar qual posição e qual caractere na sequência introduzida está inadequada. Utiliza-se um ciclo 'for' com a função `zip()`(para alterar linhas por colunas), sendo este utilizado para iterar sobre cada posição transposta. Cria-se um dicionário e uma lista vazia, onde no 'dicionario' irá ser calculado o valor da frequência a partir da formula `round((pos.count(b)+pseudo)/(len(alinhamento) + len(bases)*pseudo), 2)`, arrendondando o valor para duas casas decimais e posteriormente acrescentando o valor obtido na lista vazia."
      ]
    },
    {
      "cell_type": "code",
      "execution_count": null,
      "metadata": {
        "id": "NMLXpt-mHs6y"
      },
      "outputs": [],
      "source": [
        "def pwm(alinhamento:list[str], pseudo: float = 0) -> list[dict]:\n",
        "  \"\"\"\n",
        "  Objetivo: Calcular o perfil ponderado de posição (PWM) para um dado alinhamento de sequências de DNA.\n",
        "  Input: Alinhamento de sequências de DNA\n",
        "  Output: Lista de dicionários representando o perfil ponderado de posição para cada base em cada posição do alinhamento.\n",
        "  \"\"\"\n",
        "\n",
        "  lista = []\n",
        "  bases = 'ATCG'\n",
        "\n",
        "  assert [validate_seq(seq, 'DNA') for seq in alinhamento], f'Sequência {seq} inválida!'\n",
        "\n",
        "  n_alinhamento = []\n",
        "  for seq in alinhamento:\n",
        "    seq = seq.upper().replace(' ', '')\n",
        "    n_alinhamento.append(seq)\n",
        "\n",
        "  assert len(set([len(seq) for seq in n_alinhamento])) == 1, \"Nem todas as sequências são do mesmo tamanho\"\n",
        "\n",
        "  for pos in list(zip(*n_alinhamento)):\n",
        "    dicionario = {}\n",
        "    for b in bases:\n",
        "      dicionario[b] = round((pos.count(b) + pseudo) / (len(n_alinhamento) + len(bases)*pseudo), 2)\n",
        "    lista.append(dicionario)\n",
        "  return lista\n"
      ]
    },
    {
      "cell_type": "code",
      "execution_count": null,
      "metadata": {
        "colab": {
          "base_uri": "https://localhost:8080/"
        },
        "id": "k2mjAaBaIIbu",
        "outputId": "c4430071-37f9-4254-e885-1b3fd77f528a"
      },
      "outputs": [
        {
          "name": "stdout",
          "output_type": "stream",
          "text": [
            "A  0.75  0.08  0.08  0.08\n",
            "C  0.08  0.25  0.25  0.42\n",
            "G  0.08  0.08  0.08  0.42\n",
            "T  0.08  0.58  0.58  0.08\n"
          ]
        }
      ],
      "source": [
        "P = pwm(['ATTG','ATCG','ATTC','ACTC'], 0.5)\n",
        "print_profile(P)"
      ]
    },
    {
      "cell_type": "markdown",
      "metadata": {
        "id": "nNRQKVsvbXcy"
      },
      "source": [
        "* A terceira funcao, denominada de **prob_seq** recebe dois argumentos, o argumento 'seq' e o argumento 'PWM'. Esta função tem como objetivo retornar a probabilidade da sequência a partir de uma matrix peso gerada anteriormente pela função **'pwm'**. É necessário utilizar o ciclo 'for', que percorre toda a sequencia, interagindo com a posição e o elemento da mesma, e a função `enumerate()`, que recupera tanto o valor da posição como também o índice. Posteriormente, ainda dentro do ciclo referido anteriormente, determina-se uma variável denominada 'produto', sendo esta igual a 1, que irá multiplicar e armazenar o valor da probabilidade de cada nucleotídeo em cada posição."
      ]
    },
    {
      "cell_type": "code",
      "execution_count": null,
      "metadata": {
        "id": "6Sgsa31LIRCb"
      },
      "outputs": [],
      "source": [
        "def prob_seq(seq:str, PWM : list[dict]) -> float:\n",
        "  \"\"\"\n",
        "   recebe uma sequência do mesmo tamanho que a PWM e que devolve a probabilidade desta ter sido gerada pela PWM\n",
        "  \"\"\"\n",
        "  produto = 1\n",
        "  seq = seq.upper().replace(' ', '')\n",
        "  for pos, elem in enumerate(seq):\n",
        "    produto *= PWM[pos][elem]\n",
        "  return produto"
      ]
    },
    {
      "cell_type": "code",
      "execution_count": null,
      "metadata": {
        "colab": {
          "base_uri": "https://localhost:8080/"
        },
        "id": "qGGxVs0cIUFv",
        "outputId": "66938b9d-fccd-476c-f81d-8faab42ad37a"
      },
      "outputs": [
        {
          "data": {
            "text/plain": [
              "0.43499999999999994"
            ]
          },
          "execution_count": 30,
          "metadata": {},
          "output_type": "execute_result"
        }
      ],
      "source": [
        "prob_seq('AT', P)"
      ]
    },
    {
      "cell_type": "markdown",
      "metadata": {
        "id": "wt7zWMmmbf8i"
      },
      "source": [
        "Posteriormente, como iremos utilizar o auxilio de expressões regulares, ao importar o modulo `re`. É criado uma função definida como **seq_mais_provavel** que recebe dois argumentos, sendo estes o 'seq' e 'pwm'. Depois, cria-se um dicionário vazio para armazenar o resultado desejado. O ciclo 'for' irá iterar sobre a sequência, no entanto, devido a utilização da expressão regular `re.findall('?=(...))',seq)` procurará sobreposições apenas de 4 caracteres. Na linha seguinte, dentro do ciclo 'for' referido anteriormente, vai ser calculado o valor da probabilidade das subsequências de 4 caracteres a partir da funcao **prob_seq** e armazenadas no dicionário. Após esse procedimento, iremos obter o valor da probabilidade de todas as subsequencias, no entanto, como queremos determinar a subsequencia mais provavel utilizamos o auxilio da função `max()`.\n",
        "\n",
        "Para a função **pssm**, utiliza-se o auxílio do módulo 'math'. Essa função recebe dois argumentos, sendo eles o 'alinhamento' e o 'pseudo'(que neste caso, foi utilizado o valor de 1). Esta é muito similar à função previamente definida 'pwm', possuindo ligeiras modificações. Como o cálculo de 'pssm' utiliza a função logarítmica, a partir do módulo 'math', será possivel empregar o comando `math.log2`, que calcula o logaritmo de base 2 da probabilidade ajustada."
      ]
    },
    {
      "cell_type": "code",
      "execution_count": null,
      "metadata": {
        "id": "tj6uqDiXIXae"
      },
      "outputs": [],
      "source": [
        "import re\n",
        "def seq_mais_provavel(seq, PWM):\n",
        "  \"\"\"\n",
        "  recebe uma sequência e uma PWM e que devolve a subsequência mais provável de ter sido gerada pela PWM\n",
        "  \"\"\"\n",
        "  dicionario = {}\n",
        "  for subset in re.findall('(?=(....))', seq):\n",
        "    dicionario[subset] = (prob_seq(subset, PWM))\n",
        "  return max(dicionario, key=dicionario.get)"
      ]
    },
    {
      "cell_type": "code",
      "execution_count": null,
      "metadata": {
        "colab": {
          "base_uri": "https://localhost:8080/",
          "height": 35
        },
        "id": "fE1QoLuOIa9G",
        "outputId": "13e0f177-3b2e-4ca9-f348-70a037c49aa8"
      },
      "outputs": [
        {
          "data": {
            "application/vnd.google.colaboratory.intrinsic+json": {
              "type": "string"
            },
            "text/plain": [
              "'ACCG'"
            ]
          },
          "execution_count": 32,
          "metadata": {},
          "output_type": "execute_result"
        }
      ],
      "source": [
        "seq_mais_provavel(\"TACCGTGCA\", P)"
      ]
    },
    {
      "cell_type": "code",
      "execution_count": null,
      "metadata": {
        "id": "45eHFAeFIc63"
      },
      "outputs": [],
      "source": [
        "import math\n",
        "def pssm(alinhamento, pseudo = 1):\n",
        "  bases = 'ATCG'\n",
        "  assert [validate_seq(seq, 'DNA') for seq in alinhamento], f'Sequência {seq} inválida!'\n",
        "\n",
        "  lista = []\n",
        "  n_alinhamento = []\n",
        "  for seq in alinhamento:\n",
        "    seq = seq.upper().replace(' ', '')\n",
        "    n_alinhamento.append(seq)\n",
        "  assert len(set([len(seq) for seq in n_alinhamento])) == 1, \"Nem todas as sequências são do mesmo tamanho\"\n",
        "\n",
        "  for pos in list(zip(*n_alinhamento)):\n",
        "    dicionario = {}\n",
        "    for b in bases:\n",
        "      dicionario[b] = math.log2(((pos.count(b) + pseudo) / (len(alinhamento) + len(bases)*pseudo)) / 0.25)\n",
        "\n",
        "    lista.append(dicionario)\n",
        "  return lista\n"
      ]
    },
    {
      "cell_type": "code",
      "execution_count": null,
      "metadata": {
        "colab": {
          "base_uri": "https://localhost:8080/"
        },
        "id": "sN3D2yK1Ijn4",
        "outputId": "08dc525c-3c12-4c47-cdaa-3e95695d8d97"
      },
      "outputs": [
        {
          "name": "stdout",
          "output_type": "stream",
          "text": [
            "A  1.58 -1.58 -1.58 -1.58\n",
            "C -1.58  0.00  0.00  0.74\n",
            "G -1.58 -1.58 -1.58  0.74\n",
            "T -1.58  1.22  1.22 -1.58\n"
          ]
        }
      ],
      "source": [
        "PSSM = pssm(['ATTG', 'ATCG', 'aTTC', 'ACTC'], 0.5)\n",
        "print_profile(PSSM)"
      ]
    },
    {
      "cell_type": "markdown",
      "metadata": {
        "id": "bxLf3KKB0hhA"
      },
      "source": [
        "##UPGMA\n",
        "O algoritmo UPGMA utiliza uma matriz de distâncias entre as sequências para determinar quais são mais semelhantes, este assume taxas de mutação uniformes em todos os ramos, logo as àrvores criadas através deste algoritmo são ultramétricas (esta é uma das grandes limitações deste método). Em cada etapa, o par de sequências mais próximo é agrupado num novo cluster, e a matriz de distâncias é atualizada de forma a refletir as distâncias entre esse novo cluster e os clusters restantes. Este processo é repetido até que todas as sequências estejam agrupadas num único cluster.\n",
        "\n",
        "* `distance(s1, s2):`\n",
        "\n",
        "Esta função calcula a distância entre duas sequências s1 e s2 contando o número de posições em que os caracteres são diferentes.\n",
        "O corpo da função utiliza uma generator expression dentro da função `sum` para percorrer as sequências s1 e s2, aumentando 1 sempre que os caracteres correspondentes são diferentes.\n",
        "\n",
        "* `seqs_distance(seqs, distance_function):`\n",
        "\n",
        "Esta função cria uma matriz de distâncias entre todas as sequências fornecidas em seqs usando a função de distância especificada em `distance_function`.\n",
        "A função utiliza dois loops  para iterar sobre todas as combinações de sequências em seqs. Após os loops, a função retorna o dicionário `result`  que contém as distâncias calculadas entre todas as combinações possíveis de sequências na lista original.\n",
        "\n",
        "* `pairwise_distance_matrix(seqs, distance_function):`\n",
        "\n",
        "Similar à função anterior, esta utiliza uma abordagem mais eficiente. A principal diferença é a condição `if int(idx1) < int(idx2):`, que verifica se o índice da primeira sequência (idx1) é menor que o índice da segunda sequência (idx2). Isto garante que as distâncias são calculadas e armazenadas apenas uma vez para cada par único de sequências.\n",
        "\n",
        "* `closest_sequences(dist_matrix):`\n",
        "\n",
        "Esta função encontra o par de sequências mais próximas com base na matriz de distâncias fornecida (dist_matrix).Utiliza dois loops para percorrer a matriz e encontra o par de índices correspondente à menor distância.\n",
        "\n",
        "* `get_distance(distances, idx1, idx2):`\n",
        "\n",
        "Esta função obtém a distância entre dois índices (idx1 e idx2) num conjunto de distâncias. Usa o try/except para verificar se as distâncias estão disponíveis nas entradas correspondentes da matriz ou se é necessário inverter a ordem dos índices.\n",
        "\n",
        "* `create_new_matrix(distances, idx1, idx2):`\n",
        "\n",
        "Cria uma nova matriz de distâncias após agrupar duas sequências identificadas pelos índices idx1 e idx2.Usa os índices fornecidos para calcular as novas distâncias entre o cluster recém-formado e os clusters restantes.\n",
        "A nova matriz é construída iterando sobre a matriz original e criando entradas para os novos clusters formados.\n"
      ]
    },
    {
      "cell_type": "code",
      "execution_count": null,
      "metadata": {
        "id": "BJfPRe5T0mDP"
      },
      "outputs": [],
      "source": [
        "import pprint\n",
        "from typing import Callable\n",
        "\n",
        "def distance(s1 : str, s2 : str) -> int:\n",
        "    return sum(1 for x1, x2 in zip(s1, s2) if x1.upper() != x2.upper())\n",
        "\n",
        "def seqs_distance(seqs : list[str], distance_function : Callable[[str, str], int]) -> dict[str, dict[str, int]]:\n",
        "    result = dict()\n",
        "    for seq1 in seqs:\n",
        "        result[str(seq1).upper()] = dict()   #usado para armazenar as distâncias entre seq1 e todas as outras sequências\n",
        "        for seq2 in seqs:\n",
        "            result[str(seq1).upper()][str(seq2).upper()] = distance_function(seq1, seq2)\n",
        "    return result\n",
        "\n",
        "def pairwise_distance_matrix(seqs : list[str], distance_function : Callable[[str, str], int]) -> dict[str, dict[str, int]]:\n",
        "    result = dict()\n",
        "    for idx1, seq1 in enumerate(seqs):\n",
        "      #Verifica se o índice da primeira sequência é menor que o índice da segunda sequência\n",
        "        result[str(idx1)] = dict()\n",
        "        for idx2, seq2 in enumerate(seqs):\n",
        "            if int(idx1) < int(idx2):\n",
        "              # Calcula a distância para pares únicos (idx1 < idx2)\n",
        "                result[str(idx1)][str(idx2)] = distance_function(seq1, seq2)\n",
        "    return result\n",
        "    #dicionário final com as distâncias únicas entre pares de sequências\n",
        "\n",
        "def closest_sequences(dist_matrix):\n",
        "  #Inicia as variáveis de forma a armazenar a menor distância e o par correspondente\n",
        "    min_distance = None\n",
        "    pair = None\n",
        "    for idx1, distances in dist_matrix.items():\n",
        "        for idx2, value in distances.items():\n",
        "            if min_distance is None or min_distance > value:\n",
        "                min_distance = value  #atualiza com o valor de distância atual\n",
        "                pair = idx1, idx2\n",
        "    return pair  #correspondente à menor distância na matriz\n",
        "\n",
        "\n",
        "def get_distance(dist_matrix, idx1, idx2):\n",
        "    try:\n",
        "        if idx1 in dist_matrix and idx2 in dist_matrix[idx1]: #verifica se a distância entre idx1 e idx2 está definida\n",
        "            return dist_matrix[idx1][idx2]\n",
        "        return dist_matrix[idx2][idx1]  #ordem dos índices não importa\n",
        "    except Exception as e:     #Em caso de exceção (ex: índices ausentes), imprime informações de debug e encerra o programa\n",
        "        print(dist_matrix, idx1, idx2)\n",
        "        print(dist_matrix, idx1, idx2)\n",
        "        exit()\n",
        "\n",
        "\n",
        "def create_new_matrix(dist_matrix, idx1, idx2):\n",
        "    new_matrix = dict()\n",
        "    # Cria uma chave única para representar a combinação de idx1 e idx2\n",
        "    new_key = f\"{idx1}+{idx2}\"\n",
        "    for key, value in dist_matrix.items():\n",
        "        if key != idx1 and key != idx2:\n",
        "            d1 = get_distance(dist_matrix, idx1, key)\n",
        "            d2 = get_distance(dist_matrix, idx2, key)\n",
        "            new_matrix[key] = {new_key: (d1 + d2) / 2} # Calcula a média das distâncias e armazena-as na nova matriz\n",
        "            for k, v in value.items():\n",
        "                new_matrix[key][k] = v\n",
        "    new_matrix[new_key] = {}\n",
        "    return new_matrix"
      ]
    },
    {
      "cell_type": "markdown",
      "metadata": {
        "id": "7PDJP5geAyhy"
      },
      "source": [
        "####Aplicação:"
      ]
    },
    {
      "cell_type": "code",
      "execution_count": null,
      "metadata": {
        "colab": {
          "base_uri": "https://localhost:8080/"
        },
        "id": "FO2ku2jd0x02",
        "outputId": "abb3da57-a182-4b85-aae0-3dc2c29343c7"
      },
      "outputs": [
        {
          "name": "stdout",
          "output_type": "stream",
          "text": [
            "{'0': {'1': 2, '2': 2, '3': 0, '4': 0, '5': 3}, '1': {'2': 1, '3': 2, '4': 2, '5': 3}, '2': {'3': 2, '4': 2, '5': 2}, '3': {'4': 0, '5': 3}, '4': {'5': 3}, '5': {}}\n",
            "0 3\n",
            "{'1': {'0+3': 2.0, '2': 1, '3': 2, '4': 2, '5': 3}, '2': {'0+3': 2.0, '3': 2, '4': 2, '5': 2}, '4': {'0+3': 0.0, '5': 3}, '5': {'0+3': 3.0}, '0+3': {}}\n",
            "4 0+3\n",
            "{'1': {'4+0+3': 2.0, '0+3': 2.0, '2': 1, '3': 2, '4': 2, '5': 3}, '2': {'4+0+3': 2.0, '0+3': 2.0, '3': 2, '4': 2, '5': 2}, '5': {'4+0+3': 3.0, '0+3': 3.0}, '4+0+3': {}}\n",
            "1 2\n",
            "{'5': {'1+2': 2.5, '4+0+3': 3.0, '0+3': 3.0}, '4+0+3': {'1+2': 2.0}, '1+2': {}}\n"
          ]
        }
      ],
      "source": [
        "# Gera uma lista de sequências de DNA e calcula a matriz de distâncias inicial (distance_matrix_0) usando a função distance.\n",
        "distance_matrix_0 = pairwise_distance_matrix('agtc atac atgc AGTC agtc acga'.split(), distance)\n",
        "print(distance_matrix_0)\n",
        "\n",
        "seq1, seq2 = closest_sequences(distance_matrix_0)\n",
        "#Execução do agrupamento hierárquico em três níveis(clustering_1, clustering_2, clustering_3)\n",
        "clustering_1 = create_new_matrix(distance_matrix_0, seq1, seq2)\n",
        "print(seq1, seq2)\n",
        "print(clustering_1)\n",
        "\n",
        "seq1, seq2 = closest_sequences(clustering_1)\n",
        "clustering_2 = create_new_matrix(clustering_1, seq1, seq2)\n",
        "\n",
        "print(seq1, seq2)\n",
        "print(clustering_2)\n",
        "\n",
        "seq1, seq2 = closest_sequences(clustering_2)\n",
        "clustering_3 = create_new_matrix(clustering_2, seq1, seq2)\n",
        "\n",
        "print(seq1, seq2)\n",
        "print(clustering_3)"
      ]
    },
    {
      "cell_type": "code",
      "execution_count": null,
      "metadata": {
        "colab": {
          "base_uri": "https://localhost:8080/",
          "height": 476
        },
        "id": "qceCQ8gO5fw4",
        "outputId": "423ad5c8-eb59-4870-e2dd-9219ee6eb204"
      },
      "outputs": [
        {
          "data": {
            "image/png": "[encoded data removed]",
            "text/plain": [
              "<Figure size 640x480 with 1 Axes>"
            ]
          },
          "metadata": {},
          "output_type": "display_data"
        }
      ],
      "source": [
        "import numpy as np\n",
        "import scipy.cluster.hierarchy as sch\n",
        "import matplotlib.pyplot as plt\n",
        "\n",
        "# Dados\n",
        "data = distance_matrix_0\n",
        "\n",
        "# Iniciar a matriz com zeros, onde o num_points é o número total de sequências\n",
        "num_points = len(data)\n",
        "distances = np.zeros((num_points, num_points))\n",
        "\n",
        "# Percorrer todas as posições da matriz e adicionar o valor da distância no dicionário fornecido\n",
        "for i, point1 in enumerate(data):\n",
        "    for j, point2 in enumerate(data):\n",
        "        # Se houver uma distância conhecida, use-a; caso contrário, use 0\n",
        "        distances[i, j] = data.get(point1, {}).get(point2, 0)\n",
        "#print(distances)\n",
        "\n",
        "# Calcular as ligações hierárquicas\n",
        "# Método usado em análise hierárquica aglomerativa para calcular a proximidade entre clusters. Esse método é comumente empregado na construção de dendrogramas\n",
        "linkage_matrix = sch.linkage(distances, method='ward')\n",
        "\n",
        "# Criar o dendrograma\n",
        "dendrogram = sch.dendrogram(linkage_matrix, labels=list(data.keys()))\n",
        "\n",
        "# Exibir o dendrograma\n",
        "plt.title('Dendrograma')\n",
        "plt.xlabel('Pontos de Dados')\n",
        "plt.ylabel('Distância')\n",
        "plt.show()"
      ]
    },
    {
      "cell_type": "markdown",
      "metadata": {
        "id": "FPbXwQaK1Ljr"
      },
      "source": [
        "#### **Teste das funções**\n",
        "Testes para as funções definidas: usámos a library [unittest](https://docs.python.org/3/library/unittest.html) que nos permite criar uma classe de testes relacionados e testar para vários parâmetros simultaneamente\n",
        "Estes testes são importantes para nos certificarmos que o código funciona como é suposto (até mesmo depois de o alterarmos).\n",
        "\n",
        "Para fazer os testes precisamos de:\n",
        "1. importar a library \"unittest\" fazendo o `import unittest`\n",
        "2. criar(importar) uma classe de testes com `class MyTestCase(unittest.TestCase):`\n",
        "3. definir as funções que vamos testar\n",
        "4. se necessário indicar segmentos que queremos testar (ex: indicar uma sequencia de dna e as respetivas ORF ou indicar algo que queremos verificar que é falso)\n",
        "5. usar assert para verificar que o código faz o que é suposto\n",
        "6. finalizar a ronda de testes com `if __name__ == '__main__':` e depois em bloco `unittest-main()` que faz com que tenhamos um output que indica se os testes foram sucedidos\n",
        "\n",
        "(na aula acabámos com `unittest.main(argv=[''], exit=False)`, este comando faz com que os testes só sejam executados quando o script for executado diretamente)\n",
        "\n",
        "Aspetos importantes:\n",
        "- os testes definidos com unittest têm que começar pela palavra \"test\" para ser o teste ser automaticamente reconhecido e executado pelo unittest (ex: test_validDNA)\n",
        "- a seguir ao nome do teste entre parentesis tem que estar \"self\" e antes do assert temos que pôr \"self.\"\n",
        "- os métodos de assert mais usados são: \"`assertEqual(x,y)`\" (verifica que x == y)\"; \"`assertTrue(x)`\" (verifica que x é verdadeiro); \"`assertFalse(x)`\" (verifica que o x é falso)\n",
        "- no output: \".\" significa que o teste foi feito com sucesso; \"E\" siginifica erro; \"F\" signfifica que o teste falhou (ex: \"F..\" --> 1 teste falhou e 2 foram sucedidos)\n",
        "- quaisquer erros e falhas nos testes vão aparecer especificados"
      ]
    },
    {
      "cell_type": "code",
      "execution_count": null,
      "metadata": {
        "colab": {
          "base_uri": "https://localhost:8080/"
        },
        "id": "cQqumAIe1PF6",
        "outputId": "fdc35a6e-a126-4529-ff89-d891d38cb561"
      },
      "outputs": [
        {
          "name": "stderr",
          "output_type": "stream",
          "text": [
            "............................\n",
            "----------------------------------------------------------------------\n",
            "Ran 28 tests in 0.069s\n",
            "\n",
            "OK\n"
          ]
        },
        {
          "name": "stdout",
          "output_type": "stream",
          "text": [
            "{} 0 1\n",
            "{} 0 1\n"
          ]
        },
        {
          "data": {
            "text/plain": [
              "<unittest.main.TestProgram at 0x7d58743b7eb0>"
            ]
          },
          "execution_count": 38,
          "metadata": {},
          "output_type": "execute_result"
        }
      ],
      "source": [
        "import unittest\n",
        "\n",
        "class TestBioInf(unittest.TestCase):\n",
        "\n",
        "  def test_validate_seq(self):\n",
        "    self.assertTrue(validate_seq('', 'dna'))\n",
        "    self.assertTrue(validate_seq('ATG gat gCG', 'Dna'))\n",
        "    self.assertTrue(validate_seq(' AUug augC G ', ' RNA'))\n",
        "    self.assertFalse(validate_seq('ATG gat gCG', 'Rna'))\n",
        "    self.assertFalse(validate_seq('AUG', 'DNA'))\n",
        "    self.assertEqual(validate_seq('AUG AGC', 'TNA'), 'Tipo de sequência inválida')\n",
        "    validas_dna = \"AAT agtc GGG TT CCCC gT AGC TCGA\".split()\n",
        "    validas_rna = \"AUA GCuA UAU AGUgcC u\".split()\n",
        "    invalidas = \"ATX chc f F Aj OILoi\".split()\n",
        "    for seq in validas_dna:\n",
        "      self.assertTrue(validate_seq(seq, 'DNA'), f'valido {seq}')\n",
        "      self.assertTrue(validate_seq(seq, ' dna'), f'valido {seq}')\n",
        "    for seq in validas_rna:\n",
        "      self.assertTrue(validate_seq(seq, 'Rn a'), f'valido {seq}')\n",
        "      self.assertFalse(validate_seq(seq, 'DNA'), f'invalido {seq}')\n",
        "    for seq in invalidas:\n",
        "      self.assertFalse(validate_seq(seq, 'DNA'), f'valido {seq}')\n",
        "      self.assertFalse(validate_seq(seq, 'RNA'), f'valido {seq}')\n",
        "\n",
        "  def test_calculate_frequency(self):\n",
        "    testes = [('GCTATA', {'A': 2, 'C': 1, 'G': 1,  'T': 2}),\n",
        "          ('GA ga', {'A': 2, 'G': 2}),\n",
        "          (' UaU', {'A': 1, 'U': 2}),\n",
        "          ('', {}) ]\n",
        "    for seq, freq in testes:\n",
        "      self.assertEqual(calculate_frequency(seq), freq)\n",
        "\n",
        "  def test_gc_percentage(self):\n",
        "    testes = [\n",
        "          ('ATGC', 50.0),\n",
        "          ('atat ATAT', 0.0),\n",
        "          ('GGC GCG gcg', 100.0),\n",
        "          (' ata ATA Tat G', 10.0)\n",
        "      ]\n",
        "    for dna, percentage in testes:\n",
        "      self.assertEqual(gc_percentage(dna), percentage)\n",
        "\n",
        "  def test_transcreve(self):\n",
        "    testes = [\n",
        "          ('ATA', 'AUA'),\n",
        "          ('tT', 'UU'),\n",
        "          (' AGC agc', 'AGCAGC')\n",
        "         ]\n",
        "    for seq, transcrita in testes:\n",
        "      self.assertEqual(transcreve(seq), transcrita)\n",
        "\n",
        "  def test_translate_seq(self):\n",
        "    testes = [\n",
        "            ((\"AAATTGGCGTCAGTCTGC\", 3), 'LASVC'),\n",
        "            ((\"atg\", 0), 'M'),\n",
        "            ((\"tttATGtca cagCTt\", 3), 'MSQL'),\n",
        "            ((' ', 0), '')]\n",
        "    for (dna, w), prot in testes:\n",
        "      self.assertEqual(translate_seq(dna, w), prot)\n",
        "\n",
        "  def test_comp_inv(self):\n",
        "    testes = [('at GC', 'GCAT'),\n",
        "              (' AAAAttt', 'AAATTTT'),\n",
        "              ('', '')]\n",
        "    for seq, inv in testes:\n",
        "      self.assertEqual(comp_inv(seq), inv)\n",
        "\n",
        "  def test_reading_frames(self):\n",
        "    testes = [\n",
        "           ('TGTGATATGCACCGACGGTAAGCTGTGATGTAA', ['CDMHRR_AVM_', 'VICTDGKL_C', '_YAPTVSCDV', 'LHHSLPSVHIT', 'YITAYRRCIS', 'TSQLTVGAYH']),\n",
        "           ('AAATTTGCGACATATATGGGTAGG', ['KFATYMGR', 'NLRHIWV', 'ICDIYG_', 'PTHICRKF', 'LPIYVAN', 'YPYMSQI']),\n",
        "           ('ATAGCGATTGG', ['IAI', '_RL', 'SDW', 'PIA', 'QSL', 'NRY']),\n",
        "       ]\n",
        "    for dna, orf in testes:\n",
        "      self.assertEqual(reading_frames(dna), orf)\n",
        "\n",
        "  def test_proteinas_rf(self):\n",
        "    testes = [\n",
        "            (\"AEIOUMA_MUTE_GLK_PQ_MNPQR_\", {\"MA\", \"MUTE\", \"MNPQR\"}),\n",
        "            (\"MAU_MARIAENDRWN_\", {\"MAU\", \"MARIAENDRWN\"}),\n",
        "            (\"NKM_POPMENDESP_YTM\", {\"M\",\"MENDESP\"}),\n",
        "            (\"TYMAT_YYMT_TTMAAAS_TT\", {\"MAT\", \"MT\", \"MAAAS\"}),\n",
        "            (\"YMTYMOP_I\",{\"MTYMOP\"}),\n",
        "            (\"KOASLAS_\", set())\n",
        "        ]\n",
        "    for seq, prot in testes:\n",
        "      self.assertEqual(set(proteinas_rf(seq)), prot)\n",
        "\n",
        "  def test_all_orfs(self):\n",
        "    testes = [\n",
        "          ('ATGGACGCATGAGGATGTGATTATTATCTTTAACTACACATGCTTCACTAAGTATACATAATTTTAGTAATGCTTATTATTTCTTTTATTTTCTATATTTGTCCATTTATTACTGGGGTTCATAA', ['MDA', 'MLH', 'MRM', 'MYT', 'MCS', 'MDKYRK', 'MNPSNKWTNIENKRNNKHY']),\n",
        "          ('ATGGACGCAATTTTCTATATTTGTCCATTTATTACTGGGGTTCATAA', [])\n",
        "      ]\n",
        "    for seq, prot in testes:\n",
        "      self.assertEqual(all_orfs(seq), prot)\n",
        "\n",
        "  def test_all_orfs_max(self):\n",
        "    DNA = \"TTATGGGTATGGCAACTTTCCATTAATGATATGTAACTAAGTGTACCACATATACCTAGCCAAAGGCTGTGTAGTGGAGCATCGTTATCCGAAGCTTGATCGTTGCATTGTGGTAAACC\"\n",
        "    self.assertEqual(all_orfs_max(DNA), 'MLHYTAFG')\n",
        "    self.assertEqual(all_orfs_max('tgaagatgcgatgcagtcatcgtttcctgactg ATGCTGAgcagatccctgacttT a TGA atgtcacagctttga'), 'MLSRSLTL')\n",
        "\n",
        "  def test_score_subst(self):\n",
        "    testes = {('a', 'A', -4): 2,\n",
        "              ('c', 'g', -2): -1,\n",
        "              ('-', 'T', -4): -4\n",
        "    }\n",
        "    for (x1, x2, g) in testes.keys():\n",
        "      self.assertEqual(score_subst(x1, x2, g), testes[(x1, x2, g)])\n",
        "\n",
        "  def test_needleman_wunsch(self):\n",
        "    self.assertEqual(needleman_wunsch('ACT', 'ACCT', -4, score_subst), (2, ('A-CT', 'ACCT')))\n",
        "    self.assertEqual(needleman_wunsch('ACT', 'ACCT', -8, score_subst), (-2, ('A-CT', 'ACCT')))\n",
        "    self.assertEqual(needleman_wunsch('CGA', 'CGG', -4, score_subst),  (3, ('CGA', 'CGG')))\n",
        "    self.assertEqual(needleman_wunsch('CGA', 'ATC', -4, score_subst),  (-3, ('CGA', 'ATC')))\n",
        "\n",
        "  #def test_reconstruct(self):\n",
        "\n",
        "  def test_map(self):\n",
        "    self.assertEqual(map(' ', 3), {})\n",
        "    self.assertEqual(map('AT g', 2), {'AT': [0], 'TG': [1]})\n",
        "    self.assertEqual(map(' Gatg At G'), {'GAT': [0, 3], 'ATG': [1, 4], 'TGA': [2]})\n",
        "    self.assertEqual(map('a t g c', 4), {'ATGC': [0]})\n",
        "    self.assertEqual(map('GT', 4), {})\n",
        "\n",
        "  def test_hits(self):\n",
        "    self.assertEqual(hits(' ATAGAT G', 'ATAG  GCGATAGCACACGAT G'), [[0, 0], [0, 7], [1, 1], [1, 8], [3, 6], [3, 16], [4, 17]])\n",
        "    self.assertEqual(hits('AT gt','GCGCGgcgcgATGttatata', 4), [[0, 10]])\n",
        "    self.assertEqual(hits('AT g','GCGCGgcgcg'), [])\n",
        "\n",
        "  def test_extend_direcao(self):\n",
        "    self.assertEqual(extend_direcao('aaTGCtt', 'agcTGCTTggcaa', (2, 3), 1, 3), ['TT', 'TTGGCAA'])\n",
        "    self.assertEqual(extend_direcao('a T g', 'gca tgc ccg agt', (0, 2), -1, 2), ['', 'CG'])\n",
        "    self.assertFalse(extend_direcao('a T g', 'gca tgc ccg agt', (0, 2), -1, 4))\n",
        "\n",
        "  def test_consenso(self):\n",
        "    self.assertEqual(consenso(\"cgg cgcaaa\", \"cgcGGCtttt\"), ['CG--GC--', 4])\n",
        "    self.assertEqual(consenso(\"GGG\", \"ATCTACTACTCATCATTTA\"), ['', 0])\n",
        "    self.assertEqual(consenso(\"GtG\", \"ATCTACTACTCATCATTTA\"), ['-T', 1])\n",
        "\n",
        "  def test_extend_hit(self):\n",
        "    self.assertEqual(extend_hit(\"AATATAT\", \"AATATGTTATATAATAATATTT\", (1, 16), 3), (0, 15, 7, 6))\n",
        "    self.assertEqual(extend_hit(\"ggg TAA agG ttt gcg\", \"ttt tct AAA GGC cct ttt\", (4, 6), 3), (2, 4, 6, 6))\n",
        "    self.assertEqual(extend_hit(\"GCU AUG C\", \"acaauuaagcg\", (3, 3), 2), (1, 1, 4, 3))\n",
        "    self.assertEqual(extend_hit(\"taat\", \"gagcgcgTAAtgcatgatagtagta\", (0, 7), 4), (0, 7, 4, 4))\n",
        "\n",
        "  def test_best_hit(self):\n",
        "    self.assertEqual(best_hit('AATATAT', 'AATATGTTATATAATAATATTT'), (0, 0, 7, 6))\n",
        "    self.assertEqual(best_hit(\"ggg ttt gcg\", \"ttt tct AAA GGC cct ttt\", 3), (3, 0, 5, 4))\n",
        "    self.assertEqual(best_hit('gcgcgc', 'auauau', 2), 'Não há matches entre as sequências.')\n",
        "\n",
        "  def test_pwm(self):\n",
        "    self.assertEqual(pwm(['ATG', 'ATC', 'ATT', 'ACT']), [{'A': 1.0, 'T': 0.0, 'C': 0.0, 'G': 0.0}, {'A': 0.0, 'T': 0.75, 'C': 0.25, 'G': 0.0}, {'A': 0.0, 'T': 0.5, 'C': 0.25, 'G': 0.25}])\n",
        "    self.assertNotEqual(pwm(['TG', 'AC']), [{'A': 1.0, 'T': 1.0, 'C': 0.0, 'G': 0.0}, {'A': 0.0, 'T': 0.0, 'C': 1.0, 'G': 1.0}] )\n",
        "    self.assertEqual(pwm(['ATTG','ATCG','ATTC','ACTC'], 0.5), [ {'A': 0.75, 'T': 0.08, 'C': 0.08, 'G': 0.08}, {'A': 0.08, 'T': 0.58, 'C': 0.25, 'G': 0.08}, {'A': 0.08, 'T': 0.58, 'C': 0.25, 'G': 0.08}, {'A': 0.08, 'T': 0.08, 'C': 0.42, 'G': 0.42}])\n",
        "\n",
        "  def test_prob_seq(self):\n",
        "    PWM = [ {'A': 0.75, 'T': 0.08, 'C': 0.08, 'G': 0.08},\n",
        "            {'A': 0.08, 'T': 0.58, 'C': 0.25, 'G': 0.08},\n",
        "            {'A': 0.08, 'T': 0.58, 'C': 0.25, 'G': 0.08},\n",
        "            {'A': 0.08, 'T': 0.08, 'C': 0.42, 'G': 0.42}]\n",
        "    self.assertEqual(prob_seq('ACCG', PWM), 0.0196875)\n",
        "    self.assertEqual(prob_seq('ATTG', PWM), 0.10596599999999998)\n",
        "\n",
        "  def test_seq_mais_provavel(self):\n",
        "    PWM = [ {'A': 0.75, 'T': 0.08, 'C': 0.08, 'G': 0.08},\n",
        "            {'A': 0.08, 'T': 0.58, 'C': 0.25, 'G': 0.08},\n",
        "            {'A': 0.08, 'T': 0.58, 'C': 0.25, 'G': 0.08},\n",
        "            {'A': 0.08, 'T': 0.08, 'C': 0.42, 'G': 0.42}]\n",
        "    self.assertEqual(seq_mais_provavel(\"TACCGTGCA\", PWM), 'ACCG')\n",
        "    self.assertEqual(seq_mais_provavel(\"TACTAGCGATCGGC\", PWM), 'ATCG')\n",
        "\n",
        "  def test_pssm(self):\n",
        "    PSSM = [{'A': 1.584962500721156,   'T': -1.5849625007211563, 'C': -1.5849625007211563, 'G': -1.5849625007211563},\n",
        "            {'A': -1.5849625007211563, 'T': 1.222392421336448,   'C': 0.0,                 'G': -1.5849625007211563},\n",
        "            {'A': -1.5849625007211563, 'T': 1.222392421336448,   'C': 0.0,                 'G': -1.5849625007211563},\n",
        "            {'A': -1.5849625007211563, 'T': -1.5849625007211563, 'C': 0.7369655941662062,  'G': 0.7369655941662062}]\n",
        "\n",
        "    self.assertNotEqual(pssm(['ATTG','AtcG','ATTC','ACTC'], 1), PSSM)\n",
        "\n",
        "  def test_distance(self):\n",
        "    self.assertEqual(distance(\"ATCG\", \"ATCG\"), 0)\n",
        "    self.assertEqual(distance(\"ATCGC\", \"ATCGCG\"), 0)\n",
        "    self.assertEqual(distance(\"atg\", \"ATA\"), 1)\n",
        "    self.assertEqual(distance(\"ATC\", \"TCA\"), 3)\n",
        "\n",
        "  def test_seq_distance(self):\n",
        "    self.assertEqual(seqs_distance([\"ATG\", \"ATG\"], distance), {\"ATG\": {\"ATG\": 0}})\n",
        "    self.assertEqual(seqs_distance([\"ATC\", \"ATG\"], distance), {'ATC': {'ATC': 0, 'ATG': 1}, 'ATG': {'ATC': 1, 'ATG': 0}})\n",
        "\n",
        "  def test_pairwise_distance_matrix(self):\n",
        "    self.assertEqual(pairwise_distance_matrix([\"ACT\", \"ACT\"], distance), {'0': {'1': 0}, '1': {}})\n",
        "    self.assertEqual(pairwise_distance_matrix(['ATCG', 'ATG', 'TTCG'], distance), {'0': {'1': 1, '2': 1}, '1': {'2': 2}, '2': {}})\n",
        "    self.assertEqual(pairwise_distance_matrix([\"ATAT\", \"CGGC\"], distance), {\"0\": {\"1\": 4}, \"1\": {}})\n",
        "\n",
        "  def test_closest_sequences(self):\n",
        "    self.assertEqual(closest_sequences(pairwise_distance_matrix(['ATCG', 'ATG', 'TTCG', 'atgc'], distance)), ('1', '3'))\n",
        "    self.assertEqual(closest_sequences(pairwise_distance_matrix(['tgG', 'ATG', 'TTCG', 'AG'], distance)), ('0', '3'))\n",
        "    self.assertEqual(closest_sequences(pairwise_distance_matrix(['AATC', 'AACC', 'AGTT', 'AGTC', 'ACGC'], distance)), ('0', '1'))\n",
        "\n",
        "  def test_get_distance(self):\n",
        "    matriz = {'0': {'1': 1, '2': 2, '3': 1, '4': 2}, '1': {'2': 3, '3': 2, '4': 2}, '2': {'3': 1, '4': 3}, '3': {'4': 2}, '4': {}}\n",
        "    self.assertEqual(get_distance({}, 0, 1), None)\n",
        "    self.assertEqual(get_distance({\"ATGC\": {\"ATGC\": 0}}, \"ATGC\", \"ATGC\"), 0)\n",
        "    self.assertEqual(get_distance(matriz, '2', '4'), 3)\n",
        "\n",
        "  def test_create_new_matrix(self):\n",
        "    matriz = {'0': {'1': 1, '2': 2, '3': 1, '4': 2}, '1': {'2': 3, '3': 2, '4': 2}, '2': {'3': 1, '4': 3}, '3': {'4': 2}, '4': {}}\n",
        "    matriz2= {'0': {'1': 1, '2': 2, '3': 1, '4': 1, '5': 2}, '1': {'2': 3, '3': 1, '4': 2, '5': 2}, '2': {'3': 3, '4': 1, '5': 3}, '3': {'4': 2, '5': 1}, '4': {'5': 2}, '5': {}}\n",
        "    self.assertEqual(create_new_matrix(matriz, '0', '1'), {'2': {'0+1': 2.5, '3': 1, '4': 3}, '3': {'0+1': 1.5, '4': 2}, '4': {'0+1': 2.0}, '0+1': {}})\n",
        "    self.assertEqual(create_new_matrix(matriz2, '1', '3'), {'0': {'1+3': 1.0, '1': 1, '2': 2, '3': 1, '4': 1, '5': 2}, '2': {'1+3': 3.0, '3': 3, '4': 1, '5': 3}, '4': {'1+3': 2.0, '5': 2}, '5': {'1+3': 1.5}, '1+3': {}})\n",
        "\n",
        "\n",
        "unittest.main(argv=[''], exit=False)"
      ]
    }
  ],
  "metadata": {
    "colab": {
      "provenance": []
    },
    "kernelspec": {
      "display_name": "Python 3",
      "name": "python3"
    },
    "language_info": {
      "name": "python"
    }
  },
  "nbformat": 4,
  "nbformat_minor": 0
}
